{
 "cells": [
  {
   "cell_type": "code",
   "execution_count": 186,
   "metadata": {},
   "outputs": [
    {
     "name": "stdout",
     "output_type": "stream",
     "text": [
      "             time user_id         source   device action_detail  \\\n",
      "0  12/1/2024 8:02       4          Email   Mobile     Page View   \n",
      "1  12/1/2024 8:04       4       Referral  Desktop     Page View   \n",
      "2  12/1/2024 8:05       4       Referral  Desktop      Checkout   \n",
      "3  12/1/2024 8:07       4         Direct   Mobile     Page View   \n",
      "4  12/1/2024 8:35       4  Search Engine  Desktop     Page View   \n",
      "\n",
      "                          reference_link product_id  ads_spent  \\\n",
      "0  https://holiday-sale.com/product-page        873   0.466555   \n",
      "1  https://holiday-sale.com/product-page        852   0.000000   \n",
      "2       https://year-end-sale.com/offers         11   0.000000   \n",
      "3                                    NaN         26   0.000000   \n",
      "4                                    NaN        613   8.760181   \n",
      "\n",
      "  discount_amount  session_id  \n",
      "0               0           1  \n",
      "1               0           1  \n",
      "2               0           1  \n",
      "3               0           1  \n",
      "4               0           1  \n"
     ]
    },
    {
     "name": "stderr",
     "output_type": "stream",
     "text": [
      "C:\\Users\\owner\\AppData\\Local\\Temp\\ipykernel_3992\\3268797453.py:5: DtypeWarning: Columns (1) have mixed types. Specify dtype option on import or set low_memory=False.\n",
      "  traffic_df = pd.read_csv(file_path)\n"
     ]
    }
   ],
   "source": [
    "import pandas as pd\n",
    "\n",
    "# Read the CSV file into a DataFrame\n",
    "file_path = \"C:/Users/owner/OneDrive/Documents/Job prep/Projects/Ecom-project/traffic_fact_table.csv\" \n",
    "traffic_df = pd.read_csv(file_path)\n",
    "\n",
    "# Display the first few rows\n",
    "print(traffic_df.head())\n"
   ]
  },
  {
   "cell_type": "code",
   "execution_count": 187,
   "metadata": {},
   "outputs": [
    {
     "name": "stdout",
     "output_type": "stream",
     "text": [
      "<class 'pandas.core.frame.DataFrame'>\n",
      "RangeIndex: 206046 entries, 0 to 206045\n",
      "Data columns (total 10 columns):\n",
      " #   Column           Non-Null Count   Dtype  \n",
      "---  ------           --------------   -----  \n",
      " 0   time             206046 non-null  object \n",
      " 1   user_id          206046 non-null  object \n",
      " 2   source           206046 non-null  object \n",
      " 3   device           206046 non-null  object \n",
      " 4   action_detail    206046 non-null  object \n",
      " 5   reference_link   115282 non-null  object \n",
      " 6   product_id       199831 non-null  object \n",
      " 7   ads_spent        206046 non-null  float64\n",
      " 8   discount_amount  204152 non-null  object \n",
      " 9   session_id       206046 non-null  int64  \n",
      "dtypes: float64(1), int64(1), object(8)\n",
      "memory usage: 15.7+ MB\n",
      "None\n"
     ]
    }
   ],
   "source": [
    "print(traffic_df.info())"
   ]
  },
  {
   "cell_type": "markdown",
   "metadata": {},
   "source": [
    "General EDA"
   ]
  },
  {
   "cell_type": "markdown",
   "metadata": {},
   "source": [
    "Missing value"
   ]
  },
  {
   "cell_type": "code",
   "execution_count": 188,
   "metadata": {},
   "outputs": [
    {
     "name": "stdout",
     "output_type": "stream",
     "text": [
      "                 missing count  missing percentage\n",
      "time                         0            0.000000\n",
      "user_id                      0            0.000000\n",
      "source                       0            0.000000\n",
      "device                       0            0.000000\n",
      "action_detail                0            0.000000\n",
      "reference_link           90764           44.050358\n",
      "product_id                6215            3.016317\n",
      "ads_spent                    0            0.000000\n",
      "discount_amount           1894            0.919212\n",
      "session_id                   0            0.000000\n"
     ]
    }
   ],
   "source": [
    "missing_value = traffic_df.isnull().sum()\n",
    "missing_percentage = (missing_value / len(traffic_df))*100\n",
    "missing_df = pd.DataFrame({\"missing count\": missing_value, \"missing percentage\": missing_percentage})\n",
    "print(missing_df)"
   ]
  },
  {
   "cell_type": "markdown",
   "metadata": {},
   "source": [
    "data type"
   ]
  },
  {
   "cell_type": "code",
   "execution_count": 189,
   "metadata": {},
   "outputs": [
    {
     "name": "stdout",
     "output_type": "stream",
     "text": [
      "\n",
      "Traffic_Data type\n",
      "time                object\n",
      "user_id             object\n",
      "source              object\n",
      "device              object\n",
      "action_detail       object\n",
      "reference_link      object\n",
      "product_id          object\n",
      "ads_spent          float64\n",
      "discount_amount     object\n",
      "session_id           int64\n",
      "dtype: object\n"
     ]
    }
   ],
   "source": [
    "print(\"\\nTraffic_Data type\")\n",
    "print(traffic_df.dtypes)"
   ]
  },
  {
   "cell_type": "markdown",
   "metadata": {},
   "source": [
    "mixed data type check"
   ]
  },
  {
   "cell_type": "code",
   "execution_count": 190,
   "metadata": {},
   "outputs": [
    {
     "name": "stdout",
     "output_type": "stream",
     "text": [
      "mixed data type in user_id\n",
      "mixed data type in reference_link\n",
      "mixed data type in product_id\n",
      "mixed data type in discount_amount\n"
     ]
    }
   ],
   "source": [
    "for col in traffic_df.columns:\n",
    "    unique_types = traffic_df[col].apply(type).nunique()\n",
    "    if unique_types > 1:\n",
    "        print(f\"mixed data type in {col}\")"
   ]
  },
  {
   "cell_type": "markdown",
   "metadata": {},
   "source": [
    "1. Verify Numerical (suppose to be) Columns"
   ]
  },
  {
   "cell_type": "code",
   "execution_count": 191,
   "metadata": {},
   "outputs": [
    {
     "name": "stdout",
     "output_type": "stream",
     "text": [
      "\n",
      "Checking numeric column: ads_spent\n",
      "No invalid values found in 'ads_spent'.\n",
      "\n",
      "Checking numeric column: discount_amount\n",
      "Invalid values in 'discount_amount': {'Missing', 'Unknown'}\n",
      "Count of invalid values in 'discount_amount': 639\n",
      "\n",
      "Checking numeric column: product_id\n",
      "Invalid values in 'product_id': {'invalid', 'Unknown', 'NA123', 'prod$%'}\n",
      "Count of invalid values in 'product_id': 6048\n",
      "\n",
      "Checking numeric column: session_id\n",
      "No invalid values found in 'session_id'.\n",
      "\n",
      "Checking numeric column: user_id\n",
      "Invalid values in 'user_id': {'user_9888', 'user_7584', 'user_7165', 'user_4248', 'user_4553', 'user_4581', 'user_332', 'user_6367', 'user_7343', 'user_5295', 'user_1370', 'user_1143', 'user_1639', 'user_3216', 'user_5265', 'user_1060', 'user_4182', 'user_9118', 'user_8840', 'user_1806', 'user_1247', 'user_7787', 'user_4481', 'user_8435', 'user_9076', 'user_2579', 'user_3139', 'user_8080', 'user_6441', 'user_5673', 'user_6671', 'user_7768', 'user_100', 'user_6160', 'user_2913', 'user_1392', 'user_9433', 'user_415', 'user_6908', 'user_7111', 'user_27', 'user_3477', 'user_1114', 'user_5521', 'user_5003', 'user_8115', 'user_3867', 'user_9465', 'user_2112', 'user_5852', 'user_885', 'user_9321', 'user_9455', 'user_6493', 'user_7594', 'user_7449', 'user_8787', 'user_5455', 'user_6328', 'user_69', 'user_5642', 'user_7038', 'user_274', 'user_7258', 'user_2844', 'user_4001', 'user_6598', 'user_9496', 'user_9498', 'user_7917', 'user_1952', 'user_2733', 'user_7513', 'user_5216', 'user_6946', 'user_5745', 'user_8659', 'user_5910', 'user_2984', 'user_3655', 'user_4523', 'user_6423', 'user_9955', 'user_1022', 'user_2353', 'user_2667', 'user_4669', 'user_5926', 'user_7044', 'user_7532', 'user_6556', 'user_8245', 'user_1139', 'user_3851', 'user_8492', 'user_6796', 'user_6827', 'user_4577', 'user_3252', 'user_6898', 'user_7935', 'user_9210', 'user_5293', 'user_9009', 'user_6649', 'user_3570', 'user_2441', 'user_1610', 'user_3684', 'user_6360', 'user_7446', 'user_2513', 'user_2562', 'user_3761', 'user_7778', 'user_8000', 'user_5735', 'user_2677', 'user_1350', 'user_8279', 'user_5936', 'user_8631', 'user_65', 'user_3392', 'user_4626', 'user_5758', 'user_4153', 'user_7239', 'user_2059', 'user_3742', 'user_8316', 'user_4801', 'user_82', 'user_7601', 'user_2131', 'user_2489', 'user_679', 'user_8754', 'user_2271', 'user_3450', 'user_4930', 'user_7473', 'user_7527', 'user_6929', 'user_9794', 'user_1252', 'user_1669', 'user_2814', 'user_1340', 'user_538', 'user_7079', 'user_6687', 'user_7846', 'user_6602', 'user_304', 'user_9601', 'user_1017', 'user_2909', 'user_7960', 'user_2847', 'user_7365', 'user_967', 'user_2089', 'user_9391', 'user_9796', 'user_5715', 'user_9040', 'user_3997', 'user_8957', 'user_1579', 'user_3184', 'user_7677', 'user_6735', 'user_934', 'user_3025', 'user_4962', 'user_9987', 'user_3636', 'user_408', 'user_327', 'user_6038', 'user_7771', 'user_4362', 'user_4401', 'user_4758', 'user_5384', 'user_7280', 'user_8170', 'user_2524', 'user_2979', 'user_8208', 'user_1292', 'user_8587', 'user_9016', 'user_6915', 'user_7318', 'user_8394', 'user_8638', 'user_1537', 'user_5949', 'user_8838', 'user_5289', 'user_2191', 'user_8294', 'user_10000', 'user_1937', 'user_6767', 'user_2363', 'user_9673', 'user_4656', 'user_773', 'user_6997', 'user_3', 'user_3150', 'user_5789', 'user_9025', 'user_982', 'user_7708', 'user_7916', 'user_8388', 'user_4015', 'user_2970', 'user_4111', 'user_1834', 'user_8218', 'user_199', 'user_8933', 'user_218', 'user_4049', 'user_9466', 'user_4644', 'user_1640', 'user_3234', 'user_5270', 'user_4695', 'user_4424', 'user_759', 'user_7690', 'user_8993', 'user_2912', 'user_6525', 'user_8196', 'user_2480', 'user_5699', 'user_821', 'user_828', 'user_8735', 'user_6022', 'user_1361', 'user_5184', 'user_7664', 'user_9265', 'user_5067', 'user_3262', 'user_1004', 'user_4754', 'user_6258', 'user_2289', 'user_4345', 'user_2536', 'user_2577', 'user_1771', 'user_3454', 'user_4282', 'user_2100', 'user_3578', 'user_4275', 'user_6281', 'user_8318', 'user_8750', 'user_8853', 'user_7814', 'user_8589', 'user_1721', 'user_9417', 'user_1603', 'user_4217', 'user_3543', 'user_3901', 'user_4543', 'user_8967', 'user_3825', 'user_7419', 'user_3084', 'user_5703', 'user_3337', 'user_1936', 'user_8389', 'user_26', 'user_5204', 'user_2070', 'user_4805', 'user_7519', 'user_895', 'user_4114', 'user_7183', 'user_4476', 'user_3990', 'user_7265', 'user_7093', 'user_1153', 'user_5008', 'user_6753', 'user_7381', 'user_9642', 'user_2549', 'user_5487', 'user_5759', 'user_3905', 'user_529', 'user_782', 'user_3474', 'user_4821', 'user_6850', 'user_3774', 'user_5690', 'user_7924', 'user_9654', 'user_2702', 'user_765', 'user_9264', 'user_2154', 'user_7471', 'user_7061', 'user_1221', 'user_1490', 'user_4412', 'user_8816', 'user_504', 'user_8792', 'user_6763', 'user_2339', 'user_7230', 'user_1149', 'user_8803', 'user_5770', 'user_1297', 'user_8222', 'user_3365', 'user_1956', 'user_7857', 'user_2315', 'user_4485', 'user_7225', 'user_3411', 'user_3756', 'user_6610', 'user_6337', 'user_8783', 'user_1473', 'user_3818', 'user_1720', 'user_2740', 'user_4117', 'user_9177', 'user_1509', 'user_4541', 'user_6359', 'user_2551', 'user_7598', 'user_9247', 'user_3275', 'user_5495', 'user_9659', 'user_111', 'user_7277', 'user_6949', 'user_7082', 'user_8940', 'user_2999', 'user_4364', 'user_7686', 'user_9451', 'user_7727', 'user_6883', 'user_8779', 'user_9408', 'user_713', 'user_6771', 'user_2591', 'user_5102', 'user_8424', 'user_3693', 'user_7069', 'user_7592', 'user_7987', 'user_2133', 'user_4973', 'user_2691', 'user_4053', 'user_463', 'user_9909', 'user_4407', 'user_8805', 'user_2522', 'user_1940', 'user_4135', 'user_4171', 'user_4355', 'user_5572', 'user_4477', 'user_7951', 'user_3718', 'user_8774', 'user_5452', 'user_811', 'user_1072', 'user_6467', 'user_1955', 'user_8258', 'user_8414', 'user_7743', 'user_3717', 'user_8271', 'user_2757', 'user_4620', 'user_7739', 'user_9113', 'user_9586', 'user_8310', 'user_8427', 'user_2294', 'user_2975', 'user_3624', 'user_4095', 'user_2532', 'user_6704', 'user_2275', 'user_5853', 'user_198', 'user_309', 'user_6856', 'user_5439', 'user_6046', 'user_7577', 'user_1707', 'user_2155', 'user_7107', 'user_2606', 'user_6691', 'user_1805', 'user_3707', 'user_4714', 'user_1088', 'user_156', 'user_1984', 'user_582', 'user_4225', 'user_4603', 'user_6169', 'user_4198', 'user_7100', 'user_7660', 'user_4852', 'user_8366', 'user_2521', 'user_7936', 'user_7346', 'user_4967', 'user_2843', 'user_7282', 'user_2766', 'user_7410', 'user_9634', 'user_3651', 'user_4914', 'user_9545', 'user_5999', 'user_4358', 'user_1270', 'user_4631', 'user_5834', 'user_368', 'user_902', 'user_9256', 'user_4167', 'user_4569', 'user_2905', 'user_4684', 'user_2683', 'user_4612', 'user_1151', 'user_3773', 'user_494', 'user_5153', 'user_5194', 'user_5871', 'user_6340', 'user_537', 'user_9308', 'user_7161', 'user_2175', 'user_1459', 'user_1522', 'user_9403', 'user_6844', 'user_7623', 'user_8143', 'user_6501', 'user_4493', 'user_7540', 'user_76', 'user_5135', 'user_6146', 'user_3307', 'user_6429', 'user_9422', 'user_7975', 'user_7552', 'user_1626', 'user_3719', 'user_4187', 'user_5394', 'user_6435', 'user_6585', 'user_9058', 'user_4878', 'user_2605', 'user_8409', 'user_8797', 'user_1165', 'user_4958', 'user_575', 'user_3153', 'user_9930', 'user_1581', 'user_1785', 'user_323', 'user_1257', 'user_718', 'user_9990', 'user_9607', 'user_8939', 'user_8242', 'user_7129', 'user_915', 'user_3574', 'user_1096', 'user_4292', 'user_9941', 'user_282', 'user_3288', 'user_8529', 'user_317', 'user_2988', 'user_8930', 'user_496', 'user_8187', 'user_6087', 'user_8996', 'user_8925', 'user_612', 'user_6906', 'user_9134', 'user_8029', 'user_6025', 'user_8438', 'user_3746', 'user_6208', 'user_2465', 'user_2745', 'user_6043', 'user_4654', 'user_8740', 'user_135', 'user_3940', 'user_9726', 'user_9352', 'user_7465', 'user_4047', 'user_1387', 'user_9382', 'user_6117', 'user_3582', 'user_4983', 'user_9233', 'user_924', 'user_59', 'user_9613', 'user_5730', 'user_1138', 'user_311', 'user_3712', 'user_4505', 'user_5721', 'user_5037', 'user_6611', 'user_8147', 'user_9608', 'user_1424', 'user_1432', 'user_5199', 'user_6778', 'user_7104', 'user_3896', 'user_4340', 'user_7146', 'user_8609', 'user_1991', 'user_7567', 'user_9175', 'user_9647', 'user_5023', 'user_3444', 'user_2409', 'user_3304', 'user_3739', 'user_3024', 'user_8671', 'user_6469', 'user_611', 'user_4048', 'user_9940', 'user_1659', 'user_7696', 'user_1533', 'user_5874', 'user_8937', 'user_8955', 'user_9911', 'user_8466', 'user_3579', 'user_9887', 'user_9602', 'user_986', 'user_2615', 'user_3600', 'user_4981', 'user_6378', 'user_6053', 'user_4154', 'user_466', 'user_2554', 'user_413', 'user_9343', 'user_4970', 'user_8636', 'user_4403', 'user_9834', 'user_9125', 'user_601', 'user_6105', 'user_5982', 'user_3675', 'user_733', 'user_3330', 'user_8576', 'user_5700', 'user_3442', 'user_7675', 'user_8270', 'user_160', 'user_3138', 'user_3201', 'user_4054', 'user_6051', 'user_9430', 'user_2704', 'user_940', 'user_1073', 'user_4078', 'user_4107', 'user_4490', 'user_4927', 'user_6079', 'user_6239', 'user_9324', 'user_3272', 'user_8126', 'user_5564', 'user_6401', 'user_4057', 'user_1300', 'user_1129', 'user_1263', 'user_2565', 'user_4780', 'user_5679', 'user_1419', 'user_6456', 'user_8419', 'user_8563', 'user_8919', 'user_9149', 'user_3775', 'user_7376', 'user_7284', 'user_7051', 'user_5824', 'user_9441', 'user_3418', 'user_4567', 'user_476', 'user_6498', 'user_8929', 'user_6116', 'user_991', 'user_1550', 'user_7499', 'user_9961', 'user_4236', 'user_3765', 'user_6596', 'user_7398', 'user_2314', 'user_8664', 'user_1441', 'user_7426', 'user_6561', 'user_2781', 'user_6127', 'user_5151', 'user_3248', 'user_44', 'user_8790', 'user_9582', 'user_8379', 'user_3051', 'user_875', 'user_9714', 'user_4888', 'user_6183', 'user_3123', 'user_8190', 'user_5876', 'user_4219', 'user_1440', 'user_1700', 'user_242', 'user_8873', 'user_6609', 'user_6147', 'user_2123', 'user_7655', 'user_9525', 'user_8109', 'user_7305', 'user_3441', 'user_8432', 'user_3344', 'user_2043', 'user_5143', 'user_8822', 'user_2628', 'user_209', 'user_113', 'user_5591', 'user_5622', 'user_1616', 'user_1420', 'user_8513', 'user_9197', 'user_6100', 'user_1518', 'user_3740', 'user_5646', 'user_2910', 'user_9593', 'user_5975', 'user_9543', 'user_4055', 'user_884', 'user_973', 'user_254', 'user_3273', 'user_4506', 'user_6518', 'user_7523', 'user_253', 'user_261', 'user_4040', 'user_4751', 'user_5996', 'user_6711', 'user_6408', 'user_7641', 'user_210', 'user_8915', 'user_5795', 'user_8459', 'user_3235', 'user_1203', 'user_2381', 'user_9101', 'user_9913', 'user_2779', 'user_3334', 'user_4602', 'user_6578', 'user_8154', 'user_4705', 'user_9589', 'user_4317', 'user_7337', 'user_5209', 'user_2402', 'user_984', 'user_2462', 'user_7015', 'user_9222', 'user_4575', 'user_7383', 'user_3941', 'user_4260', 'user_8603', 'user_9378', 'user_2147', 'user_4724', 'user_7158', 'user_7652', 'user_6187', 'user_1217', 'user_6896', 'user_2185', 'user_9202', 'user_8148', 'user_615', 'user_9298', 'user_5653', 'user_8363', 'user_7039', 'user_4075', 'user_7241', 'user_5905', 'user_2013', 'user_1303', 'user_5619', 'user_7643', 'user_9110', 'user_1215', 'user_9872', 'user_2672', 'user_1692', 'user_472', 'user_1855', 'user_2239', 'user_3099', 'user_2384', 'user_322', 'user_1047', 'user_1874', 'user_5411', 'user_8723', 'user_7694', 'user_2256', 'user_4516', 'user_3535', 'user_883', 'user_1152', 'user_5836', 'user_5743', 'user_8868', 'user_2897', 'user_894', 'user_9614', 'user_503', 'user_794', 'user_9470', 'user_7737', 'user_1711', 'user_8313', 'user_3413', 'user_1107', 'user_1904', 'user_7483', 'user_7450', 'user_7976', 'user_1889', 'user_4609', 'user_2443', 'user_4882', 'user_1117', 'user_3575', 'user_8232', 'user_2292', 'user_4540', 'user_3425', 'user_5140', 'user_8096', 'user_5784', 'user_3518', 'user_9755', 'user_50', 'user_1061', 'user_1234', 'user_7332', 'user_5990', 'user_6490', 'user_3759', 'user_8481', 'user_3166', 'user_9840', 'user_6335', 'user_728', 'user_7633', 'user_4455', 'user_9420', 'user_8670', 'user_435', 'user_9761', 'user_1058', 'user_3095', 'user_2471', 'user_3513', 'user_909', 'user_6889', 'user_1959', 'user_6762', 'user_7744', 'user_5772', 'user_8468', 'user_3683', 'user_8931', 'user_6422', 'user_9781', 'user_6895', 'user_8512', 'user_2452', 'user_732', 'user_7452', 'user_9311', 'user_5604', 'user_5964', 'user_993', 'user_4594', 'user_7588', 'user_8339', 'user_3144', 'user_5415', 'user_7000', 'user_7033', 'user_1665', 'user_8437', 'user_2494', 'user_8336', 'user_81', 'user_2018', 'user_9200', 'user_5845', 'user_2948', 'user_4976', 'user_5048', 'user_6173', 'user_2752', 'user_5418', 'user_853', 'user_8765', 'user_4697', 'user_4508', 'user_5799', 'user_3532', 'user_6909', 'user_2391', 'user_8415', 'user_7753', 'user_2216', 'user_4559', 'user_6274', 'user_8221', 'user_8498', 'user_2940', 'user_3438', 'user_7794', 'user_8233', 'user_2199', 'user_1182', 'user_9180', 'user_9975', 'user_3063', 'user_2093', 'user_7487', 'user_9312', 'user_7182', 'user_985', 'user_1648', 'user_3883', 'user_9167', 'user_251', 'user_2355', 'user_5979', 'user_1204', 'user_2924', 'user_856', 'user_187', 'user_2087', 'user_1120', 'user_961', 'user_491', 'user_4554', 'user_308', 'user_1749', 'user_1905', 'user_6134', 'user_6343', 'user_8956', 'user_4100', 'user_4283', 'user_1650', 'user_299', 'user_3460', 'user_2169', 'user_5078', 'user_5314', 'user_3117', 'user_1156', 'user_6088', 'user_942', 'user_9270', 'user_1934', 'user_6759', 'user_4943', 'user_1226', 'user_2598', 'user_4221', 'user_9618', 'user_201', 'user_1237', 'user_8689', 'user_9802', 'user_3416', 'user_7139', 'user_5461', 'user_2344', 'user_2382', 'user_2655', 'user_4937', 'user_3120', 'user_3022', 'user_2401', 'user_286', 'user_4352', 'user_703', 'user_2301', 'user_6133', 'user_9765', 'user_6347', 'user_6487', 'user_2240', 'user_4611', 'user_4938', 'user_5641', 'user_192', 'user_492', 'user_9395', 'user_8595', 'user_734', 'user_9039', 'user_9967', 'user_2417', 'user_389', 'user_169', 'user_890', 'user_3179', 'user_9246', 'user_9423', 'user_3567', 'user_33', 'user_9031', 'user_4550', 'user_8023', 'user_3829', 'user_8660', 'user_2685', 'user_7891', 'user_9747', 'user_5028', 'user_5304', 'user_9252', 'user_1987', 'user_9268', 'user_9596', 'user_1946', 'user_291', 'user_8462', 'user_6659', 'user_943', 'user_5626', 'user_7209', 'user_3734', 'user_5756', 'user_200', 'user_1916', 'user_3846', 'user_7712', 'user_7741', 'user_9261', 'user_4971', 'user_5058', 'user_3096', 'user_6494', 'user_3847', 'user_1422', 'user_6308', 'user_9820', 'user_7482', 'user_2285', 'user_2279', 'user_3807', 'user_6831', 'user_486', 'user_1404', 'user_5233', 'user_5865', 'user_1885', 'user_1827', 'user_4633', 'user_7060', 'user_1030', 'user_4488', 'user_6848', 'user_9785', 'user_3033', 'user_3868', 'user_4918', 'user_1932', 'user_2673', 'user_8484', 'user_651', 'user_9780', 'user_159', 'user_9912', 'user_3580', 'user_5377', 'user_2086', 'user_2431', 'user_3399', 'user_9520', 'user_1393', 'user_6582', 'user_8592', 'user_608', 'user_9805', 'user_5533', 'user_2296', 'user_8681', 'user_5344', 'user_9574', 'user_9881', 'user_5286', 'user_1209', 'user_1933', 'user_4868', 'user_2483', 'user_5656', 'user_5659', 'user_355', 'user_1038', 'user_7748', 'user_9013', 'user_3989', 'user_5614', 'user_7604', 'user_8015', 'user_9393', 'user_4725', 'user_4193', 'user_5746', 'user_1062', 'user_2548', 'user_2609', 'user_7534', 'user_5019', 'user_1951', 'user_5193', 'user_7775', 'user_8134', 'user_1808', 'user_4199', 'user_2563', 'user_3065', 'user_9232', 'user_1003', 'user_1491', 'user_9739', 'user_7651', 'user_3347', 'user_3542', '1abcvd', 'user_3736', 'user_1198', 'user_3017', 'user_1617', 'user_1575', 'user_5917', 'user_2145', 'user_3458', 'user_7152', 'user_8497', 'user_8928', 'user_404', 'user_6656', 'user_1924', 'user_6954', 'user_5338', 'user_8870', 'user_831', 'user_1657', 'user_6317', 'user_8693', 'user_6246', 'user_1228', 'user_4307', 'user_8694', 'user_9428', 'user_5484', 'user_9329', 'user_1864', 'user_4509', 'user_4771', 'user_8894', 'user_9055', 'user_9326', 'user_5178', 'user_6542', 'user_8616', 'user_9361', 'user_1399', 'user_4276', 'user_6072', 'user_5594', 'user_750', 'user_9242', 'user_12', 'user_7570', 'user_5586', 'user_9493', 'user_9413', 'user_5741', 'user_9122', 'user_9414', 'user_7384', 'user_9291', 'user_3893', 'user_4641', 'user_2337', 'user_7800', 'user_1867', 'user_9297', 'user_944', 'user_7953', 'user_4344', 'user_6473', 'user_9048', 'user_4002', 'user_4526', 'user_686', 'user_1351', 'user_2255', 'user_9124', 'user_2379', 'user_2612', 'user_5303', 'user_5433', 'user_5650', 'user_5147', 'user_580', 'user_6311', 'user_4772', 'user_5515', 'user_8623', 'user_1431', 'user_5012', 'user_1280', 'user_3286', 'user_4177', 'user_3806', 'user_4655', 'user_4622', 'user_9049', 'user_1176', 'user_8236', 'user_2340', 'user_9879', 'user_2377', 'user_8325', 'user_2936', 'user_4850', 'user_8810', 'user_426', 'user_1443', 'user_2450', 'user_6176', 'user_9590', 'user_8299', 'user_567', 'user_6191', 'user_656', 'user_8151', 'user_9897', 'user_9317', 'user_2425', 'user_3641', 'user_1729', 'user_3427', 'user_855', 'user_871', 'user_8198', 'user_6341', 'user_2386', 'user_1366', 'user_8678', 'user_9534', 'user_2804', 'user_1051', 'user_7886', 'user_9972', 'user_4746', 'user_193', 'user_3935', 'user_6296', 'user_9251', 'user_5264', 'user_8377', 'user_4066', 'user_4907', 'user_5405', 'user_9612', 'user_112', 'user_2307', 'user_2317', 'user_2327', 'user_8537', 'user_3668', 'user_2891', 'user_7016', 'user_5367', 'user_818', 'user_6950', 'user_3053', 'user_5392', 'user_6992', 'user_2768', 'user_9790', 'user_6023', 'user_5130', 'user_3367', 'user_7687', 'user_2091', 'user_8988', 'user_3420', 'user_1750', 'user_938', 'user_8348', 'user_7795', 'user_9356', 'user_2015', 'user_147', 'user_5368', 'user_5362', 'user_5727', 'user_3799', 'user_2421', 'user_420', 'user_5804', 'user_4234', 'user_8785', 'user_2903', 'user_6770', 'user_2680', 'user_6738', 'user_7966', 'user_1190', 'user_2410', 'user_5987', 'user_8568', 'user_3919', 'user_4965', 'user_6535', 'user_2575', 'user_8183', 'user_2596', 'user_6867', 'user_2889', 'user_7717', 'user_9348', 'user_7424', 'user_8832', 'user_7745', 'user_3646', 'user_8264', 'user_6461', 'user_9707', 'user_2120', 'user_1547', 'user_9920', 'user_9104', 'user_9561', 'user_1584', 'user_6772', 'user_2790', 'user_2394', 'user_3132', 'user_2736', 'user_6890', 'user_1600', 'user_2867', 'user_7707', 'user_3781', 'user_9354', 'user_5792', 'user_2830', 'user_6564', 'user_134', 'user_305', 'user_2880', 'user_7119', 'user_3569', 'user_2931', 'user_2035', 'user_7036', 'user_7287', 'user_3871', 'user_7371', 'user_2311', 'user_3183', 'user_7776', 'user_8927', 'user_1521', 'user_3938', 'user_2602', 'user_5009', 'user_5428', 'user_3384', 'user_593', 'user_226', 'user_5744', 'user_2343', 'user_983', 'user_962', 'user_2012', 'user_5076', 'user_1920', 'user_3713', 'user_6755', 'user_3594', 'user_5957', 'user_8461', 'user_2679', 'user_9239', 'user_5249', 'user_9508', 'user_7605', 'user_6507', 'user_1173', 'user_4178', 'user_6836', 'user_8926', 'user_9159', 'user_7576', 'user_9322', 'user_1332', 'user_7340', 'user_6098', 'user_1474', 'user_7045', 'user_2291', 'user_7885', 'user_1374', 'user_4539', 'user_3563', 'user_5288', 'user_2308', 'user_1059', 'user_3208', 'user_8567', 'user_6605', 'user_9734', 'user_8550', 'user_5644', 'user_7595', 'user_2258', 'user_3801', 'user_5447', 'user_215', 'user_3038', 'user_2418', 'user_7189', 'user_8845', 'user_3936', 'user_5109', 'user_5998', 'user_3032', 'user_4158', 'user_5498', 'user_9778', 'user_223', 'user_2065', 'user_3479', 'user_681', 'user_6825', 'user_9777', 'user_2949', 'user_7925', 'user_5844', 'user_9898', 'user_6715', 'user_8124', 'user_8897', 'user_9229', 'user_1562', 'user_5934', 'user_6888', 'user_2412', 'user_6250', 'user_6439', 'user_3101', 'user_6259', 'user_6421', 'user_7622', 'user_8091', 'user_3226', 'user_1694', 'user_1070', 'user_879', 'user_9850', 'user_2898', 'user_4588', 'user_9332', 'user_4949', 'user_5663', 'user_4740', 'user_4494', 'user_5500', 'user_6803', 'user_4151', 'user_189', 'user_9305', 'user_9598', 'user_9854', 'user_3830', 'user_2392', 'user_6669', 'user_4840', 'user_2342', 'user_4400', 'user_5930', 'user_7511', 'user_7387', 'user_7613', 'user_7887', 'user_3293', 'user_5301', 'user_8938', 'user_6776', 'user_1850', 'user_2151', 'user_203', 'user_4471', 'user_2981', 'user_4980', 'user_6981', 'user_9258', 'user_2269', 'user_227', 'user_2613', 'user_8707', 'user_6396', 'user_7490', 'user_2261', 'user_2803', 'user_2713', 'user_8203', 'user_7770', 'user_3473', 'user_52', 'user_6870', 'user_2670', 'user_3622', 'user_6904', 'user_740', 'user_3162', 'user_3187', 'user_6907', 'user_6575', 'user_2300', 'user_532', 'user_4743', 'user_7138', 'user_2440', 'user_4426', 'user_688', 'user_15', 'user_4119', 'user_5742', 'user_7034', 'user_2818', 'user_1740', 'user_3604', 'user_4738', 'user_7497', 'user_6910', 'user_5801', 'user_769', 'user_8672', 'user_9141', 'user_5315', 'user_9178', 'user_9183', 'user_9327', 'user_8516', 'user_2607', 'user_5901', 'user_7428', 'user_7931', 'user_9128', 'user_6863', 'user_882', 'user_2463', 'user_7021', 'user_37', 'user_4393', 'user_9811', 'user_2678', 'user_6509', 'user_4381', 'user_442', 'user_6513', 'user_6398', 'user_625', 'user_7402', 'user_9983', 'user_9991', 'user_5051', 'user_3192', 'user_8596', 'user_5755', 'user_4463', 'user_7213', 'user_5321', 'user_7825', 'user_578', 'user_5088', 'user_1738', 'user_2556', 'user_2297', 'user_3912', 'user_4845', 'user_4676', 'user_6834', 'user_7968', 'user_9346', 'user_8335', 'user_4123', 'user_804', 'user_5419', 'user_2006', 'user_3419', 'user_8796', 'user_2634', 'user_8212', 'user_5716', 'user_7214', 'user_7774', 'user_8517', 'user_175', 'user_2645', 'user_7730', 'user_2580', 'user_8850', 'user_848', 'user_7256', 'user_2637', 'user_364', 'user_5333', 'user_1380', 'user_4790', 'user_643', 'user_8280', 'user_8365', 'user_8403', 'user_9499', 'user_5643', 'user_2855', 'user_9026', 'user_5577', 'user_5015', 'user_2346', 'user_5467', 'user_5624', 'user_829', 'user_1373', 'user_4370', 'user_854', 'user_3769', 'user_3553', 'user_6877', 'user_3403', 'user_3566', 'user_7705', 'user_5297', 'user_767', 'user_8035', 'user_4812', 'user_3298', 'user_2807', 'user_735', 'user_526', 'user_1828', 'user_8446', 'user_1018', 'user_2539', 'user_9140', 'user_2048', 'user_9404', 'user_2038', 'user_4841', 'user_5944', 'user_7324', 'user_7734', 'user_9723', 'user_8706', 'user_221', 'user_7480', 'user_4736', 'user_1413', 'user_324', 'user_2916', 'user_4836', 'user_2946', 'user_4207', 'user_5125', 'user_4220', 'user_8712', 'user_3864', 'user_4437', 'user_6289', 'user_2955', 'user_5546', 'user_1748', 'user_5684', 'user_3516', 'user_947', 'user_2668', 'user_5749', 'user_7877', 'user_9808', 'user_5948', 'user_6377', 'user_1023', 'user_2514', 'user_3745', 'user_1758', 'user_5283', 'user_8295', 'user_9876', 'user_4396', 'user_8429', 'user_3080', 'user_6319', 'user_9841', 'user_3615', 'user_6642', 'user_1377', 'user_2180', 'user_836', 'user_8518', 'user_3963', 'user_9250', 'user_9438', 'user_7198', 'user_4954', 'user_8809', 'user_4729', 'user_3614', 'user_6696', 'user_727', 'user_2838', 'user_5807', 'user_4286', 'user_2142', 'user_5601', 'user_2632', 'user_6577', 'user_744', 'user_1689', 'user_7046', 'user_5438', 'user_7929', 'user_2658', 'user_4302', 'user_3284', 'user_6190', 'user_4595', 'user_6517', 'user_285', 'user_88', 'user_1872', 'user_2716', 'user_8844', 'user_8861', 'user_1716', 'user_641', 'user_8556', 'user_1285', 'user_2434', 'user_8979', 'user_9885', 'user_8593', 'user_1189', 'user_8951', 'user_5747', 'user_4759', 'user_6041', 'user_7208', 'user_1163', 'user_369', 'user_3993', 'user_2535', 'user_67', 'user_9419', 'user_3795', 'user_5768', 'user_7427', 'user_4432', 'user_5878', 'user_3266', 'user_4634', 'user_7680', 'user_6746', 'user_1185', 'user_1468', 'user_3434', 'user_3957', 'user_4008', 'user_4755', 'user_6346', 'user_433', 'user_4802', 'user_2857', 'user_5819', 'user_5978', 'user_3902', 'user_6742', 'user_8532', 'user_3517', 'user_7199', 'user_6651', 'user_8227', 'user_1662', 'user_1100', 'user_2952', 'user_4200', 'user_8399', 'user_958', 'user_4667', 'user_7572', 'user_1532', 'user_714', 'user_6693', 'user_867', 'user_1986', 'user_3082', 'user_9230', 'user_2775', 'user_6833', 'user_5977', 'user_3134', 'user_2973', 'user_3383', 'user_7861', 'user_560', 'user_9711', 'user_7822', 'user_6058', 'user_3887', 'user_6822', 'user_326', 'user_5035', 'user_2474', 'user_2168', 'user_7528', 'user_8622', 'user_5262', 'user_2687', 'user_5259', 'user_8283', 'user_9488', 'user_972', 'user_6426', 'user_8457', 'user_437', 'user_5457', 'user_9070', 'user_2161', 'user_2738', 'user_6170', 'user_6536', 'user_7597', 'user_9342', 'user_7984', 'user_1056', 'user_3490', 'user_7845', 'user_2470', 'user_8909', 'user_8298', 'user_2928', 'user_3701', 'user_1085', 'user_3303', 'user_4587', 'user_7351', 'user_9473', 'user_280', 'user_2259', 'user_8472', 'user_9238', 'user_2233', 'user_6920', 'user_9325', 'user_770', 'user_9050', 'user_1245', 'user_4259', 'user_2068', 'user_2257', 'user_2218', 'user_5123', 'user_556', 'user_8728', 'user_8615', 'user_1150', 'user_4945', 'user_3116', 'user_5081', 'user_5290', 'user_5786', 'user_8820', 'user_3751', 'user_633', 'user_8574', 'user_9109', 'user_488', 'user_1336', 'user_1389', 'user_4453', 'user_6384', 'user_9594', 'user_3918', 'user_7888', 'user_8867', 'user_8886', 'user_5251', 'user_3555', 'user_6606', 'user_6086', 'user_7585', 'user_4020', 'user_2798', 'user_3280', 'user_6217', 'user_8121', 'user_2714', 'user_9865', 'user_2764', 'user_8006', 'user_8343', 'user_1744', 'user_2900', 'user_4986', 'user_5628', 'user_7464', 'user_1686', 'user_8119', 'user_7670', 'user_7289', 'user_551', 'user_5029', 'user_7662', 'user_2424', 'user_9651', 'user_7914', 'user_7413', 'user_597', 'user_7246', 'user_1643', 'user_8010', 'user_3125', 'user_2249', 'user_4859', 'user_9526', 'user_8669', 'user_787', 'user_6928', 'user_7817', 'user_5476', 'user_5544', 'user_7860', 'user_482', 'user_9429', 'user_1082', 'user_9556', 'user_4652', 'user_3586', 'user_2533', 'user_1947', 'user_9337', 'user_5091', 'user_2062', 'user_2782', 'user_5549', 'user_6995', 'user_2860', 'user_9816', 'user_8019', 'user_569', 'user_6373', 'user_6835', 'user_7894', 'user_6933', 'user_9870', 'user_2407', 'user_7328', 'user_9176', 'user_6286', 'user_2134', 'user_4137', 'user_2525', 'user_5049', 'user_9099', 'user_1717', 'user_2957', 'user_2824', 'user_3969', 'user_5445', 'user_5477', 'user_9688', 'user_4129', 'user_4180', 'user_6830', 'user_4228', 'user_4717', 'user_2378', 'user_7681', 'user_167', 'user_8356', 'user_9559', 'user_1408', 'user_7621', 'user_7999', 'user_1330', 'user_3862', 'user_4175', 'user_6930', 'user_8384', 'user_2493', 'user_4042', 'user_2000', 'user_2561', 'user_236', 'user_3631', 'user_7143', 'user_128', 'user_2646', 'user_6781', 'user_350', 'user_4745', 'user_5253', 'user_3002', 'user_2837', 'user_7758', 'user_7864', 'user_2792', 'user_3753', 'user_370', 'user_5155', 'user_5635', 'user_5937', 'user_6015', 'user_748', 'user_9611', 'user_9643', 'user_5921', 'user_9697', 'user_3387', 'user_860', 'user_4109', 'user_5851', 'user_3037', 'user_181', 'user_5883', 'user_4855', 'user_3104', 'user_776', 'user_9185', 'user_6313', 'user_9623', 'user_9884', 'user_6182', 'user_933', 'user_1673', 'user_1341', 'user_7479', 'user_8200', 'user_2760', 'user_6648', 'user_372', 'user_5162', 'user_9130', 'user_4353', 'user_5870', 'user_6806', 'user_7455', 'user_7773', 'user_8591', 'user_4441', 'user_87', 'user_888', 'user_9801', 'user_7575', 'user_3857', 'user_1909', 'user_1973', 'user_925', 'user_1779', 'user_2449', 'user_8390', 'user_3687', 'user_1505', 'user_3785', 'user_1381', 'user_731', 'user_5526', 'user_6775', 'user_5849', 'user_711', 'user_2774', 'user_8602', 'user_2352', 'user_8359', 'user_4067', 'user_4593', 'user_8278', 'user_4851', 'user_9060', 'user_281', 'user_5226', 'user_4555', 'user_7264', 'user_385', 'user_8042', 'user_729', 'user_109', 'user_6639', 'user_8852', 'user_8966', 'user_5252', 'user_6016', 'user_5027', 'user_2426', 'user_2820', 'user_7266', 'user_4685', 'user_9661', 'user_5722', 'user_8473', 'user_8259', 'user_9212', 'user_7720', 'user_9568', 'user_4913', 'user_9484', 'user_3421', 'user_4374', 'user_3523', 'user_6730', 'user_6481', 'user_6978', 'user_5443', 'user_1271', 'user_4998', 'user_4944', 'user_2840', 'user_8855', 'user_3550', 'user_5328', 'user_7510', 'user_7304', 'user_3642', 'user_6059', 'user_1428', 'user_5970', 'user_592', 'user_205', 'user_3946', 'user_4127', 'user_5203', 'user_5358', 'user_9224', 'user_5952', 'user_7683', 'user_8440', 'user_4875', 'user_9617', 'user_4462', 'user_3081', 'user_2616', 'user_3089', 'user_6594', 'user_9769', 'user_4756', 'user_6003', 'user_2950', 'user_5207', 'user_7548', 'user_7896', 'user_5677', 'user_8327', 'user_861', 'user_5348', 'user_8969', 'user_990', 'user_6563', 'user_8413', 'user_4133', 'user_4808', 'user_4501', 'user_3752', 'user_5366', 'user_5748', 'user_376', 'user_1561', 'user_4309', 'user_8995', 'user_4739', 'user_8811', 'user_8970', 'user_9684', 'user_7481', 'user_4204', 'user_7830', 'user_8666', 'user_1590', 'user_6042', 'user_5542', 'user_7425', 'user_2028', 'user_3613', 'user_4472', 'user_5025', 'user_7801', 'user_2656', 'user_3340', 'user_6540', 'user_2060', 'user_440', 'user_7236', 'user_9121', 'user_7062', 'user_8493', 'user_9583', 'user_2663', 'user_4672', 'user_4994', 'user_1977', 'user_5896', 'user_23', 'user_9333', 'user_9954', 'user_8965', 'user_8057', 'user_8065', 'user_5370', 'user_572', 'user_4865', 'user_2614', 'user_7679', 'user_4130', 'user_5537', 'user_6591', 'user_7372', 'user_7755', 'user_8326', 'user_6568', 'user_207', 'user_9542', 'user_1990', 'user_3965', 'user_8268', 'user_5867', 'user_675', 'user_7292', 'user_9873', 'user_801', 'user_1335', 'user_8545', 'user_901', 'user_7442', 'user_979', 'user_5574', 'user_1814', 'user_4996', 'user_639', 'user_378', 'user_7586', 'user_9066', 'user_6851', 'user_7870', 'user_3030', 'user_6036', 'user_7862', 'user_5107', 'user_8896', 'user_6391', 'user_4208', 'user_3465', 'user_4809', 'user_6', 'user_2703', 'user_9033', 'user_1469', 'user_4748', 'user_9042', 'user_3146', 'user_3980', 'user_6663', 'user_971', 'user_3353', 'user_58', 'user_6667', 'user_8862', 'user_5182', 'user_7478', 'user_8240', 'user_9274', 'user_1086', 'user_4995', 'user_9234', 'user_1762', 'user_1159', 'user_5011', 'user_949', 'user_880', 'user_4544', 'user_1160', 'user_1527', 'user_9531', 'user_5864', 'user_1746', 'user_6636', 'user_1605', 'user_2969', 'user_1598', 'user_298', 'user_4112', 'user_4213', 'user_5441', 'user_6333', 'user_64', 'user_6912', 'user_2159', 'user_5068', 'user_7985', 'user_8463', 'user_9007', 'user_9985', 'user_870', 'user_8994', 'user_2376', 'user_2104', 'user_2322', 'user_2699', 'user_6168', 'user_568', 'user_6210', 'user_1260', 'user_1877', 'user_2173', 'user_6459', 'user_1379', 'user_3182', 'user_7703', 'user_4664', 'user_8253', 'user_8726', 'user_9249', 'user_2684', 'user_4791', 'user_439', 'user_1950', 'user_4721', 'user_3840', 'user_5961', 'user_8534', 'user_3269', 'user_6899', 'user_335', 'user_359', 'user_2357', 'user_6638', 'user_7783', 'user_9560', 'user_9959', 'user_457', 'user_275', 'user_4295', 'user_2490', 'user_363', 'user_6905', 'user_2419', 'user_9388', 'user_1200', 'user_5468', 'user_1068', 'user_6233', 'user_3855', 'user_7871', 'user_6697', 'user_6570', 'user_3666', 'user_3729', 'user_5161', 'user_8448', 'user_9510', 'user_2040', 'user_6557', 'user_6230', 'user_5971', 'user_6488', 'user_8307', 'user_9294', 'user_6734', 'user_1929', 'user_9813', 'user_929', 'user_4621', 'user_7514', 'user_1342', 'user_7593', 'user_9729', 'user_9760', 'user_5337', 'user_4753', 'user_9303', 'user_2681', 'user_722', 'user_4891', 'user_9235', 'user_4591', 'user_5306', 'user_6952', 'user_2364', 'user_3379', 'user_8045', 'user_2328', 'user_3991', 'user_6499', 'user_2925', 'user_136', 'user_357', 'user_7619', 'user_9074', 'user_3640', 'user_7731', 'user_7752', 'user_4031', 'user_8871', 'user_2879', 'user_8680', 'user_9818', 'user_9100', 'user_9932', 'user_672', 'user_521', 'user_7206', 'user_1735', 'user_8201', 'user_8948', 'user_375', 'user_6512', 'user_9527', 'user_8016', 'user_3430', 'user_6175', 'user_1166', 'user_5613', 'user_3161', 'user_2276', 'user_5033', 'user_5176', 'user_5364', 'user_5929', 'user_6708', 'user_1229', 'user_3625', 'user_7027', 'user_8908', 'user_7700', 'user_8633', 'user_6805', 'user_2319', 'user_3522', 'user_5', 'user_9862', 'user_7281', 'user_5818', 'user_4838', 'user_7314', 'user_1299', 'user_5831', 'user_8884', 'user_3645', 'user_2754', 'user_7087', 'user_8144', 'user_16', 'user_9774', 'user_2362', 'user_6858', 'user_3169', 'user_1318', 'user_6614', 'user_8751', 'user_89', 'user_9710', 'user_2570', 'user_5410', 'user_3455', 'user_9804', 'user_5711', 'user_1479', 'user_6623', 'user_1329', 'user_5225', 'user_8688', 'user_8075', 'user_7160', 'user_2162', 'user_8239', 'user_4975', 'user_8202', 'user_3986', 'user_513', 'user_5534', 'user_7539', 'user_3678', 'user_5310', 'user_2941', 'user_61', 'user_1140', 'user_877', 'user_9088', 'user_1678', 'user_5223', 'user_650', 'user_5363', 'user_1032', 'user_2527', 'user_5764', 'user_6572', 'user_1409', 'user_9662', 'user_977', 'user_48', 'user_4191', 'user_6695', 'user_6627', 'user_5416', 'user_7823', 'user_8194', 'user_7412', 'user_1339', 'user_4557', 'user_2473', 'user_5552', 'user_9064', 'user_9968', 'user_1767', 'user_1276', 'user_3163', 'user_7173', 'user_9871', 'user_5150', 'user_7810', 'user_474', 'user_932', 'user_9478', 'user_5560', 'user_9182', 'user_7765', 'user_7222', 'user_5322', 'user_7320', 'user_6068', 'user_9139', 'user_552', 'user_9893', 'user_5401', 'user_5485', 'user_8005', 'user_7853', 'user_7291', 'user_2139', 'user_8421', 'user_2080', 'user_8945', 'user_5000', 'user_3318', 'user_549', 'user_6970', 'user_9597', 'user_4639', 'user_2010', 'user_1628', 'user_6700', 'user_4377', 'user_1564', 'user_7555', 'user_8118', 'user_5074', 'user_2140', 'user_1463', 'user_9555', 'user_3011', 'user_4597', 'user_7808', 'user_607', 'user_2265', 'user_8859', 'user_3310', 'user_6510', 'user_2776', 'user_3551', 'user_4465', 'user_5417', 'user_4070', 'user_9906', 'user_7993', 'user_8658', 'user_7459', 'user_921', 'user_2845', 'user_9595', 'user_3222', 'user_7667', 'user_5231', 'user_2229', 'user_8882', 'user_5897', 'user_7533', 'user_5532', 'user_570', 'user_701', 'user_9385', 'user_1449', 'user_397', 'user_4982', 'user_7889', 'user_4744', 'user_3782', 'user_7815', 'user_9482', 'user_4404', 'user_9164', 'user_7357', 'user_6028', 'user_4469', 'user_6444', 'user_922', 'user_1250', 'user_7791', 'user_1012', 'user_3589', 'user_4784', 'user_1865', 'user_7251', 'user_6074', 'user_71', 'user_1965', 'user_5059', 'user_7115', 'user_8899', 'user_2152', 'user_7956', 'user_2597', 'user_1726', 'user_1483', 'user_4056', 'user_9704', 'user_1534', 'user_1895', 'user_9852', 'user_3996', 'user_6670', 'user_2530', 'user_2210', 'user_4216', 'user_7049', 'user_9444', 'user_1445', 'user_8488', 'user_6078', 'user_7235', 'user_2638', 'user_7614', 'user_2665', 'user_4521', 'user_1770', 'user_7875', 'user_6264', 'user_9746', 'user_7030', 'user_5046', 'user_7805', 'user_5483', 'user_1891', 'user_258', 'user_5186', 'user_5188', 'user_9163', 'user_1671', 'user_5242', 'user_2404', 'user_1289', 'user_5916', 'user_598', 'user_3466', 'user_1284', 'user_6303', 'user_7869', 'user_8849', 'user_9267', 'user_1938', 'user_6816', 'user_7977', 'user_9045', 'user_5697', 'user_6048', 'user_5573', 'user_8590', 'user_3593', 'user_4489', 'user_9111', 'user_5640', 'user_1216', 'user_914', 'user_3908', 'user_9683', 'user_1775', 'user_7495', 'user_4953', 'user_6645', 'user_6007', 'user_2815', 'user_8341', 'user_8454', 'user_9900', 'user_3055', 'user_2334', 'user_358', 'user_7851', 'user_8800', 'user_2051', 'user_4369', 'user_1028', 'user_3423', 'user_7926', 'user_1645', 'user_6119', 'user_2639', 'user_377', 'user_739', 'user_1306', 'user_9652', 'user_1791', 'user_3390', 'user_1294', 'user_8024', 'user_878', 'user_9364', 'user_3556', 'user_9463', 'user_1724', 'user_1747', 'user_6941', 'user_5409', 'user_3004', 'user_6008', 'user_8189', 'user_5986', 'user_5173', 'user_6054', 'user_6153', 'user_283', 'user_5671', 'user_859', 'user_3656', 'user_2730', 'user_4077', 'user_3643', 'user_1494', 'user_3725', 'user_8041', 'user_7386', 'user_8083', 'user_7500', 'user_6457', 'user_7933', 'user_5260', 'user_9592', 'user_1570', 'user_9916', 'user_9287', 'user_4948', 'user_7191', 'user_5773', 'user_8486', 'user_2348', 'user_3565', 'user_1043', 'user_8020', 'user_2809', 'user_7790', 'user_6114', 'user_2977', 'user_1926', 'user_9700', 'user_4451', 'user_8892', 'user_1021', 'user_1553', 'user_3848', 'user_4686', 'user_558', 'user_8802', 'user_9807', 'user_8353', 'user_8880', 'user_9957', 'user_8159', 'user_7147', 'user_7626', 'user_6291', 'user_8846', 'user_45', 'user_2003', 'user_4176', 'user_5589', 'user_3309', 'user_4252', 'user_4977', 'user_5001', 'user_5841', 'user_334', 'user_1130', 'user_4926', 'user_6808', 'user_4059', 'user_8600', 'user_8471', 'user_499', 'user_7380', 'user_4606', 'user_2117', 'user_2181', 'user_7872', 'user_5731', 'user_8385', 'user_6548', 'user_3768', 'user_1708', 'user_2864', 'user_9936', 'user_9452', 'user_7406', 'user_8604', 'user_6727', 'user_8405', 'user_7874', 'user_8986', 'user_1599', 'user_4163', 'user_923', 'user_3276', 'user_4703', 'user_8290', 'user_4708', 'user_2722', 'user_2383', 'user_5112', 'user_228', 'user_2299', 'user_917', 'user_1811', 'user_8821', 'user_6971', 'user_1888', 'user_5683', 'user_5940', 'user_1515', 'user_6485', 'user_5968', 'user_8839', 'user_9507', 'user_5837', 'user_4091', 'user_5391', 'user_2069', 'user_6468', 'user_8973', 'user_6163', 'user_1020', 'user_124', 'user_6096', 'user_7920', 'user_5325', 'user_8506', 'user_9824', 'user_7611', 'user_8347', 'user_8958', 'user_9567', 'user_502', 'user_8090', 'user_8072', 'user_2007', 'user_9767', 'user_5097', 'user_6650', 'user_8763', 'user_6935', 'user_6633', 'user_4665', 'user_9743', 'user_4857', 'user_6365', 'user_6944', 'user_704', 'user_6766', 'user_8285', 'user_3498', 'user_5261', 'user_3649', 'user_9015', 'user_1455', 'user_760', 'user_9829', 'user_7957', 'user_1067', 'user_4258', 'user_9036', 'user_8430', 'user_3958', 'user_7071', 'user_1265', 'user_7188', 'user_143', 'user_98', 'user_6823', 'user_6006', 'user_238', 'user_3428', 'user_8396', 'user_1106', 'user_9398', 'user_1034', 'user_8060', 'user_4161', 'user_5551', 'user_206', 'user_9138', 'user_5536', 'user_1496', 'user_500', 'user_4026', 'user_5813', 'user_9046', 'user_3677', 'user_1304', 'user_2890', 'user_1155', 'user_2972', 'user_360', 'user_4294', 'user_4341', 'user_2298', 'user_7893', 'user_6948', 'user_6295', 'user_7233', 'user_8742', 'user_3533', 'user_2980', 'user_7962', 'user_2250', 'user_5943', 'user_2519', 'user_386', 'user_2956', 'user_303', 'user_9810', 'user_5531', 'user_246', 'user_3872', 'user_7646', 'user_8062', 'user_9194', 'user_554', 'user_5523', 'user_9424', 'user_7453', 'user_3548', 'user_3916', 'user_4336', 'user_8320', 'user_6389', 'user_8611', 'user_217', 'user_7392', 'user_2498', 'user_1927', 'user_3955', 'user_3564', 'user_4116', 'user_431', 'user_1513', 'user_2545', 'user_9535', 'user_7393', 'user_3704', 'user_8941', 'user_9532', 'user_2693', 'user_9476', 'user_8178', 'user_9863', 'user_2037', 'user_3987', 'user_4649', 'user_5830', 'user_4138', 'user_5553', 'user_9279', 'user_3470', 'user_6824', 'user_7270', 'user_5918', 'user_4181', 'user_1752', 'user_1583', 'user_8360', 'user_9860', 'user_4723', 'user_3092', 'user_4661', 'user_3013', 'user_3221', 'user_3824', 'user_9867', 'user_3054', 'user_6057', 'user_6462', 'user_745', 'user_2825', 'user_2248', 'user_4337', 'user_1482', 'user_4830', 'user_8051', 'user_814', 'user_8734', 'user_2228', 'user_7881', 'user_8331', 'user_8541', 'user_3585', 'user_5966', 'user_8874', 'user_163', 'user_5464', 'user_7749', 'user_7602', 'user_2390', 'user_9236', 'user_7908', 'user_272', 'user_3966', 'user_8213', 'user_1448', 'user_7006', 'user_4173', 'user_7018', 'user_9052', 'user_9845', 'user_1112', 'user_7837', 'user_9512', 'user_6504', 'user_1324', 'user_1110', 'user_4179', 'user_1495', 'user_2264', 'user_1766', 'user_762', 'user_9664', 'user_1009', 'user_1016', 'user_3509', 'user_534', 'user_2674', 'user_1870', 'user_2182', 'user_6069', 'user_3921', 'user_3702', 'user_443', 'user_5661', 'user_7496', 'user_8157', 'user_872', 'user_8102', 'user_5672', 'user_9506', 'user_8002', 'user_2499', 'user_1914', 'user_516', 'user_7091', 'user_4722', 'user_8527', 'user_5983', 'user_4956', 'user_7979', 'user_6261', 'user_7169', 'user_119', 'user_1696', 'user_1094', 'user_7373', 'user_2323', 'user_5694', 'user_6366', 'user_3837', 'user_1438', 'user_8098', 'user_7317', 'user_6262', 'user_6553', 'user_2697', 'user_1414', 'user_7237', 'user_2149', 'user_5472', 'user_6502', 'user_1274', 'user_3700', 'user_5783', 'user_2345', 'user_5095', 'user_7489', 'user_9443', 'user_1620', 'user_4366', 'user_7688', 'user_2728', 'user_4946', 'user_817', 'user_8373', 'user_3296', 'user_8546', 'user_9173', 'user_8085', 'user_8644', 'user_5733', 'user_216', 'user_2503', 'user_197', 'user_6228', 'user_889', 'user_9196', 'user_2960', 'user_3657', 'user_9359', 'user_5847', 'user_6747', 'user_8731', 'user_1027', 'user_3009', 'user_4853', 'user_1196', 'user_5054', 'user_8526', 'user_9835', 'user_1026', 'user_3959', 'user_7401', 'user_6077', 'user_257', 'user_2842', 'user_9078', 'user_3281', 'user_8952', 'user_94', 'user_9891', 'user_1321', 'user_148', 'user_428', 'user_3537', 'user_5064', 'user_5766', 'user_7066', 'user_2873', 'user_4589', 'user_6148', 'user_7025', 'user_8905', 'user_3791', 'user_3836', 'user_3435', 'user_7657', 'user_3793', 'user_8039', 'user_2084', 'user_2106', 'user_1863', 'user_9519', 'user_5141', 'user_6686', 'user_1466', 'user_6688', 'user_2041', 'user_6447', 'user_7627', 'user_5132', 'user_7789', 'user_8599', 'user_145', 'user_2478', 'user_2246', 'user_5698', 'user_3978', 'user_8038', 'user_6400', 'user_5888', 'user_4242', 'user_153', 'user_8027', 'user_1395', 'user_6845', 'user_2538', 'user_8073', 'user_1765', 'user_5689', 'user_9351', 'user_2868', 'user_1999', 'user_2791', 'user_3426', 'user_3975', 'user_1403', 'user_4786', 'user_3274', 'user_3962', 'user_2762', 'user_8387', 'user_230', 'user_9744', 'user_4415', 'user_5094', 'user_6159', 'user_7331', 'user_74', 'user_5887', 'user_2875', 'user_5615', 'user_6288', 'user_6161', 'user_638', 'user_8989', 'user_1968', 'user_4898', 'user_7781', 'user_1768', 'user_5520', 'user_9165', 'user_2472', 'user_3577', 'user_4525', 'user_6539', 'user_8883', 'user_6678', 'user_5346', 'user_6608', 'user_632', 'user_9724', 'user_4456', 'user_3158', 'user_9779', 'user_4972', 'user_3858', 'user_7368', 'user_9299', 'user_2799', 'user_3832', 'user_1966', 'user_2896', 'user_3672', 'user_7407', 'user_7900', 'user_6272', 'user_7029', 'user_8888', 'user_5592', 'user_7339', 'user_7434', 'user_9773', 'user_4957', 'user_7176', 'user_791', 'user_8093', 'user_9925', 'user_4088', 'user_8924', 'user_2375', 'user_9800', 'user_2330', 'user_8786', 'user_6709', 'user_2657', 'user_8992', 'user_7293', 'user_6002', 'user_8847', 'user_1376', 'user_4991', 'user_3803', 'user_3850', 'user_606', 'user_2467', 'user_8819', 'user_9380', 'user_35', 'user_4629', 'user_3524', 'user_1046', 'user_3626', 'user_6108', 'user_1465', 'user_2751', 'user_1699', 'user_3506', 'user_5610', 'user_6543', 'user_9248', 'user_9935', 'user_8801', 'user_8172', 'user_3283', 'user_8337', 'user_9513', 'user_8934', 'user_905', 'user_7898', 'user_498', 'user_6855', 'user_995', 'user_5651', 'user_1077', 'user_8371', 'user_2448', 'user_6270', 'user_1508', 'user_8296', 'user_9771', 'user_3372', 'user_3317', 'user_581', 'user_667', 'user_241', 'user_3406', 'user_2148', 'user_7409', 'user_8620', 'user_2723', 'user_5597', 'user_4045', 'user_3294', 'user_5334', 'user_302', 'user_1354', 'user_7704', 'user_403', 'user_5726', 'user_9315', 'user_6455', 'user_4108', 'user_2405', 'user_8164', 'user_14', 'user_5606', 'user_1434', 'user_423', 'user_6138', 'user_5988', 'user_9793', 'user_114', 'user_5782', 'user_5959', 'user_8158', 'user_3508', 'user_4277', 'user_9626', 'user_341', 'user_5093', 'user_5838', 'user_7855', 'user_788', 'user_4716', 'user_2164', 'user_3817', 'user_1224', 'user_3794', 'user_8639', 'user_8630', 'user_7826', 'user_8330', 'user_7007', 'user_3708', 'user_7556', 'user_1109', 'user_1048', 'user_8559', 'user_9350', 'user_3410', 'user_277', 'user_1238', 'user_1857', 'user_3676', 'user_4379', 'user_8398', 'user_8569', 'user_5326', 'user_9868', 'user_1615', 'user_3515', 'user_2105', 'user_3260', 'user_464', 'user_4224', 'user_3763', 'user_5798', 'user_7986', 'user_3172', 'user_5118', 'user_4558', 'user_7326', 'user_2338', 'user_8064', 'user_8125', 'user_9426', 'user_8508', 'user_4382', 'user_8999', 'user_5272', 'user_1310', 'user_3170', 'user_2002', 'user_3888', 'user_617', 'user_7315', 'user_8312', 'user_2365', 'user_3240', 'user_3934', 'user_5519', 'user_5750', 'user_7250', 'user_5980', 'user_7736', 'user_5329', 'user_6348', 'user_234', 'user_9436', 'user_3439', 'user_7200', 'user_7847', 'user_5230', 'user_9047', 'user_1211', 'user_4425', 'user_763', 'user_4272', 'user_6111', 'user_9924', 'user_6080', 'user_2085', 'user_5215', 'user_1794', 'user_3225', 'user_674', 'user_1157', 'user_6760', 'user_9511', 'user_7041', 'user_3544', 'user_7475', 'user_9228', 'user_5302', 'user_954', 'user_4689', 'user_9737', 'user_3737', 'user_3783', 'user_8420', 'user_5072', 'user_6107', 'user_8878', 'user_9741', 'user_8667', 'user_6382', 'user_3299', 'user_9993', 'user_5407', 'user_2324', 'user_3000', 'user_3932', 'user_5514', 'user_2945', 'user_832', 'user_1589', 'user_8269', 'user_4303', 'user_6865', 'user_4051', 'user_531', 'user_2921', 'user_726', 'user_4659', 'user_4126', 'user_7574', 'user_2929', 'user_4876', 'user_6403', 'user_8376', 'user_2574', 'user_7201', 'user_4693', 'user_9151', 'user_7430', 'user_8987', 'user_497', 'user_2333', 'user_4214', 'user_7947', 'user_1385', 'user_4449', 'user_8522', 'user_7336', 'user_1588', 'user_8554', 'user_2963', 'user_8077', 'user_7650', 'user_1426', 'user_4561', 'user_6530', 'user_2137', 'user_6204', 'user_6595', 'user_6026', 'user_2335', 'user_7617', 'user_3409', 'user_4510', 'user_7494', 'user_3984', 'user_2534', 'user_545', 'user_6351', 'user_4614', 'user_3308', 'user_2126', 'user_3452', 'user_1911', 'user_2260', 'user_1624', 'user_2911', 'user_6784', 'user_710', 'user_1437', 'user_176', 'user_3814', 'user_8207', 'user_6185', 'user_7571', 'user_7669', 'user_7105', 'user_8111', 'user_8789', 'user_9855', 'user_3587', 'user_1052', 'user_5061', 'user_6152', 'user_3335', 'user_1317', 'user_1993', 'user_436', 'user_1180', 'user_2278', 'user_5449', 'user_9978', 'user_8891', 'user_1957', 'user_3375', 'user_3040', 'user_9981', '1abcd', 'user_5666', 'user_9071', 'user_8480', 'user_7910', 'user_56', 'user_6527', 'user_9120', 'user_9848', 'user_8165', 'user_3710', 'user_6193', 'user_4710', 'user_75', 'user_2016', 'user_4727', 'user_5269', 'user_7959', 'user_4250', 'user_4445', 'user_4735', 'user_682', 'user_7130', 'user_5256', 'user_6657', 'user_1556', 'user_4978', 'user_7945', 'user_7321', 'user_3689', 'user_6188', 'user_9103', 'user_8709', 'user_2061', 'user_2795', 'user_4862', 'user_2832', 'user_6894', 'user_8375', 'user_4018', 'user_3160', 'user_5206', 'user_3395', 'user_7440', 'user_3706', 'user_73', 'user_271', 'user_8052', 'user_3949', 'user_8404', 'user_6813', 'user_4806', 'user_2482', 'user_5717', 'user_6037', 'user_5632', 'user_8477', 'user_2692', 'user_3043', 'user_8230', 'user_2506', 'user_1902', 'user_5030', 'user_3445', 'user_7921', 'user_2099', 'user_1979', 'user_6084', 'user_7267', 'user_508', 'user_4674', 'user_1136', 'user_2620', 'user_7433', 'user_202', 'user_2739', 'user_5767', 'user_7286', 'user_8284', 'user_8364', 'user_1254', 'user_8011', 'user_4890', 'user_4399', 'user_5938', 'user_1186', 'user_7190', 'user_4086', 'user_8900', 'user_511', 'user_9717', 'user_5234', 'user_3451', 'user_852', 'user_588', 'user_9334', 'user_3028', 'user_822', 'user_9316', 'user_2587', 'user_7011', 'user_4580', 'user_1622', 'user_1607', 'user_1227', 'user_3145', 'user_8082', 'user_2737', 'user_7150', 'user_5089', 'user_1452', 'user_3610', 'user_743', 'user_3246', 'user_9191', 'user_7163', 'user_1835', 'user_6245', 'user_7136', 'user_1812', 'user_6352', 'user_7766', 'user_9915', 'user_2192', 'user_349', 'user_7307', 'user_4069', 'user_1703', 'user_3697', 'user_7310', 'user_8676', 'user_2072', 'user_9181', 'user_1126', 'user_297', 'user_9368', 'user_4235', 'user_9456', 'user_3491', 'user_7549', 'user_7784', 'user_2031', 'user_7879', 'user_1852', 'user_6184', 'user_6546', 'user_2789', 'user_9812', 'user_510', 'user_3036', 'user_4254', 'user_6206', 'user_997', 'user_8100', 'user_6115', 'user_5196', 'user_6362', 'user_2649', 'user_9538', 'user_7181', 'user_1436', 'user_9400', 'user_4043', 'user_1083', 'user_3052', 'user_3819', 'user_3100', 'user_3831', 'user_4398', 'user_6257', 'user_5507', 'user_7636', 'user_4495', 'user_123', 'user_3061', 'user_2675', 'user_3607', 'user_8167', 'user_8507', 'user_252', 'user_5973', 'user_6938', 'user_9620', 'user_5822', 'user_8206', 'user_5583', 'user_5540', 'user_9798', 'user_2369', 'user_3900', 'user_3464', 'user_8097', 'user_9644', 'user_2682', 'user_4243', 'user_4039', 'user_8632', 'user_8070', 'user_3382', 'user_1137', 'user_352', 'user_4690', 'user_6942', 'user_3873', 'user_939', 'user_430', 'user_8228', 'user_5596', 'user_6237', 'user_7863', 'user_8274', 'user_6370', 'user_2851', 'user_8737', 'user_9372', 'user_1710', 'user_7097', 'user_6625', 'user_4229', 'user_2600', 'user_8597', 'user_557', 'user_1595', 'user_3110', 'user_3738', 'user_6726', 'user_2676', 'user_4673', 'user_7274', 'user_1655', 'user_6372', 'user_7569', 'user_9245', 'user_171', 'user_1893', 'user_4719', 'user_912', 'user_4397', 'user_6260', 'user_8431', 'user_5420', 'user_6392', 'user_4657', 'user_8649', 'user_6103', 'user_4063', 'user_194', 'user_3109', 'user_5859', 'user_957', 'user_2451', 'user_1427', 'user_974', 'user_512', 'user_2874', 'user_8262', 'user_5100', 'user_2816', 'user_4698', 'user_3072', 'user_3852', 'user_7818', 'user_9227', 'user_9328', 'user_7010', 'user_6957', 'user_8739', 'user_9681', 'user_1801', 'user_5396', 'user_7360', 'user_8252', 'user_7353', 'user_1433', 'user_263', 'user_1000', 'user_3995', 'user_4338', 'user_4413', 'user_8392', 'user_8711', 'user_8156', 'user_4936', 'user_6282', 'user_7385', 'user_9208', 'user_9919', 'user_7361', 'user_8169', 'user_4335', 'user_6345', 'user_2976', 'user_6416', 'user_8197', 'user_3001', 'user_9225', 'user_2303', 'user_4563', 'user_1394', 'user_5817', 'user_2281', 'user_5369', 'user_6589', 'user_5284', 'user_3091', 'user_489', 'user_1193', 'user_4624', 'user_1442', 'user_7692', 'user_9001', 'user_9859', 'user_5872', 'user_3270', 'user_8687', 'user_4860', 'user_3154', 'user_1751', 'user_3155', 'user_630', 'user_2389', 'user_7899', 'user_273', 'user_9751', 'user_1357', 'user_2090', 'user_475', 'user_4776', 'user_4160', 'user_6514', 'user_1796', 'user_6616', 'user_1836', 'user_6251', 'user_5267', 'user_6433', 'user_4760', 'user_9931', 'user_594', 'user_525', 'user_4730', 'user_6751', 'user_7952', 'user_2477', 'user_8449', 'user_4274', 'user_1239', 'user_3351', 'user_5590', 'user_2759', 'user_6581', 'user_7423', 'user_5793', 'user_6049', 'user_1821', 'user_1538', 'user_5995', 'user_2967', 'user_6155', 'user_621', 'user_1802', 'user_4373', 'user_6901', 'user_756', 'user_5908', 'user_5810', 'user_8733', 'user_6632', 'user_9158', 'user_5229', 'user_7247', 'user_5300', 'user_244', 'user_1816', 'user_1050', 'user_1958', 'user_3638', 'user_4004', 'user_4311', 'user_7009', 'user_4262', 'user_5994', 'user_1985', 'user_2500', 'user_4863', 'user_8139', 'user_8791', 'user_6819', 'user_5511', 'user_4267', 'user_3760', 'user_7193', 'user_7610', 'user_4454', 'user_2136', 'user_3380', 'user_8231', 'user_577', 'user_2374', 'user_1975', 'user_3519', 'user_2706', 'user_1741', 'user_1244', 'user_6354', 'user_535', 'user_8606', 'user_2268', 'user_1728', 'user_8084', 'user_8362', 'user_1168', 'user_2094', 'user_4019', 'user_8022', 'user_260', 'user_4132', 'user_6717', 'user_4598', 'user_5933', 'user_1931', 'user_9666', 'user_1116', 'user_1249', 'user_410', 'user_1416', 'user_6284', 'user_7076', 'user_3079', 'user_9127', 'user_9397', 'user_9504', 'user_1698', 'user_5600', 'user_6879', 'user_1315', 'user_9821', 'user_2286', 'user_3903', 'user_9625', 'user_1552', 'user_1847', 'user_9635', 'user_1407', 'user_6427', 'user_1837', 'user_8910', 'user_2819', 'user_5427', 'user_6178', 'user_2660', 'user_6974', 'user_887', 'user_5047', 'user_3661', 'user_6094', 'user_1124', 'user_7895', 'user_40', 'user_780', 'user_4873', 'user_6189', 'user_9448', 'user_3778', 'user_8648', 'user_31', 'user_8808', 'user_4149', 'user_2831', 'user_5505', 'user_9435', 'user_7040', 'user_434', 'user_5504', 'user_8138', 'user_495', 'user_6826', 'user_720', 'user_2515', 'user_6664', 'user_7001', 'user_7525', 'user_850', 'user_2302', 'user_5181', 'user_8663', 'user_6875', 'user_9577', 'user_9719', 'user_9621', 'user_3103', 'user_5412', 'user_6218', 'user_5371', 'user_9921', 'user_7834', 'user_1619', 'user_2267', 'user_9766', 'user_1994', 'user_3492', 'user_6792', 'user_11', 'user_6814', 'user_7504', 'user_2011', 'user_9051', 'user_5714', 'user_5753', 'user_7148', 'user_903', 'user_2354', 'user_5448', 'user_5228', 'user_2546', 'user_5627', 'user_7760', 'user_8021', 'user_3069', 'user_2812', 'user_3596', 'user_3381', 'user_6364', 'user_8411', 'user_25', 'user_8422', 'user_7031', 'user_1087', 'user_86', 'user_8402', 'user_6207', 'user_3331', 'user_9014', 'user_9490', 'user_1313', 'user_32', 'user_3332', 'user_3911', 'user_2438', 'user_5398', 'user_9253', 'user_5119', 'user_9631', 'user_1457', 'user_1264', 'user_7568', 'user_6837', 'user_3660', 'user_6500', 'user_4835', 'user_1674', 'user_1833', 'user_399', 'user_6571', 'user_7228', 'user_5274', 'user_6750', 'user_1832', 'user_2965', 'user_5723', 'user_1036', 'user_3802', 'user_8598', 'user_9090', 'user_8014', 'user_7702', 'user_9977', 'user_7788', 'user_441', 'user_8860', 'user_4837', 'user_3217', 'user_4955', 'user_657', 'user_7544', 'user_8046', 'user_6758', 'user_8500', 'user_4473', 'user_1712', 'user_2934', 'user_4869', 'user_3499', 'user_1948', 'user_9857', 'user_5016', 'user_4210', 'user_7356', 'user_8502', 'user_9749', 'user_9293', 'user_1089', 'user_249', 'user_2853', 'user_4281', 'user_4431', 'user_2095', 'user_7612', 'user_3690', 'user_1818', 'user_7565', 'user_8943', 'user_7974', 'user_9740', 'user_5958', 'user_6921', 'user_2852', 'user_5775', 'user_8580', 'user_4416', 'user_1010', 'user_3602', 'user_6471', 'user_9085', 'user_4087', 'user_4384', 'user_7873', 'user_3112', 'user_2872', 'user_3650', 'user_3766', 'user_4457', 'user_1268', 'user_6566', 'user_6211', 'user_515', 'user_4570', 'user_7995', 'user_1345', 'user_2183', 'user_2590', 'user_6129', 'user_6665', 'user_2189', 'user_4795', 'user_7671', 'user_7096', 'user_2504', 'user_8968', 'user_8581', 'user_9569', 'user_3374', 'user_8483', 'user_5720', 'user_1970', 'user_5271', 'user_8025', 'user_5989', 'user_6739', 'user_1773', 'user_7400', 'user_6861', 'user_7468', 'user_2396', 'user_6104', 'user_2796', 'user_5710', 'user_7341', 'user_1243', 'user_2103', 'user_115', 'user_6411', 'user_9301', 'user_789', 'user_1111', 'user_6588', 'user_7638', 'user_9945', 'user_1529', 'user_8525', 'user_4044', 'user_9591', 'user_5171', 'user_5473', 'user_2079', 'user_2742', 'user_4461', 'user_9458', 'user_3904', 'user_1262', 'user_8209', 'user_7763', 'user_5803', 'user_4632', 'user_7126', 'user_8685', 'user_988', 'user_677', 'user_3087', 'user_4566', 'user_5780', 'user_6975', 'user_2063', 'user_8185', 'user_337', 'user_4990', 'user_8686', 'user_1011', 'user_4974', 'user_4702', 'user_1144', 'user_7797', 'user_1177', 'user_3811', 'user_5213', 'user_2918', 'user_595', 'user_6547', 'user_4731', 'user_6012', 'user_9217', 'user_1798', 'user_1498', 'user_3741', 'usr_!@#', 'user_8788', 'user_3530', 'user_3148', 'user_477', 'user_7867', 'user_6706', 'user_8533', 'user_7757', 'user_1230', 'user_7260', 'user_9129', 'user_980', 'user_1683', 'user_1178', 'user_1343', 'user_3064', 'user_1654', 'user_2732', 'user_7067', 'user_7085', 'user_6988', 'user_7551', 'user_3601', 'user_807', 'user_8408', 'user_3446', 'user_1119', 'user_5237', 'user_1572', 'user_2810', 'user_3644', 'user_4012', 'user_6121', 'user_6534', 'user_7035', 'user_4052', 'user_589', 'user_5053', 'user_6236', 'user_1499', 'user_2429', 'user_1609', 'user_7170', 'user_9166', 'user_478', 'user_8702', 'user_7939', 'user_9523', 'user_8858', 'user_8292', 'user_55', 'user_6431', 'user_3345', 'user_520', 'user_7553', 'user_7647', 'user_9989', 'user_5263', 'user_2523', 'user_6698', 'user_2004', 'user_2284', 'user_4098', 'user_2894', 'user_356', 'user_9946', 'user_9958', 'user_9257', 'user_9290', 'user_3790', 'user_3609', 'user_629', 'user_7969', 'user_2219', 'user_7431', 'user_6685', 'user_1146', 'user_1372', 'user_4150', 'user_5246', 'user_7133', 'user_7242', 'user_292', 'user_1782', 'user_830', 'user_9107', 'user_320', 'user_5605', 'user_1559', 'user_4468', 'user_6407', 'user_9056', 'user_5466', 'user_4513', 'user_9646', 'user_9933', 'user_4548', 'user_2765', 'user_5611', 'user_2694', 'user_3588', 'user_4912', 'user_7311', 'user_5840', 'user_4159', 'user_4467', 'user_6412', 'user_7137', 'user_7142', 'user_5052', 'user_6818', 'user_8624', 'user_4406', 'user_9680', 'user_5649', 'user_5465', 'user_9271', 'user_9557', 'user_6349', 'user_3071', 'user_3251', 'user_7192', 'user_808', 'user_2501', 'user_9184', 'user_256', 'user_8288', 'user_5296', 'user_5002', 'user_5187', 'user_5006', 'user_7002', 'user_4663', 'user_9550', 'user_180', 'user_2833', 'user_4298', 'user_4030', 'user_6113', 'user_6252', 'user_815', 'user_837', 'user_1954', 'user_9827', 'user_721', 'user_8950', 'user_2129', 'user_4368', 'user_8863', 'user_968', 'user_8001', 'user_2125', 'user_5530', 'user_5115', 'user_5890', 'user_7512', 'user_1849', 'user_5907', 'user_8044', 'user_1962', 'user_8519', 'user_4265', 'user_5947', 'user_4350', 'user_7441', 'user_3401', 'user_6550', 'user_8123', 'user_5424', 'user_749', 'user_9285', 'user_992', 'user_8976', 'user_1793', 'user_2717', 'user_5079', 'user_7735', 'user_6786', 'user_7493', 'user_2176', 'user_7724', 'user_4968', 'user_3357', 'user_670', 'user_122', 'user_7691', 'user_1715', 'user_5408', 'user_6626', 'user_2111', 'user_5312', 'user_3108', 'user_2926', 'user_4085', 'user_6321', 'user_1668', 'user_8071', 'user_7059', 'user_3026', 'user_7798', 'user_5903', 'user_8211', 'user_976', 'user_7022', 'user_3953', 'user_4910', 'user_5073', 'user_1578', 'user_5481', 'user_7168', 'user_7639', 'user_8301', 'user_8333', 'user_8117', 'user_645', 'user_6464', 'user_2075', 'user_7355', 'user_1514', 'user_6278', 'user_2895', 'user_460', 'user_7964', 'user_9063', 'user_2408', 'user_642', 'user_8494', 'user_9530', 'user_9934', 'user_1269', 'user_6743', 'user_7', 'user_8923', 'user_9384', 'user_616', 'user_1471', 'user_1871', 'user_339', 'user_7858', 'user_9497', 'user_6215', 'user_7998', 'user_987', 'user_1382', 'user_1266', 'user_8815', 'user_9453', 'user_1764', 'user_6361', 'user_5955', 'user_1587', 'user_5309', 'user_975', 'user_838', 'user_725', 'user_4320', 'user_8520', 'user_5120', 'user_2188', 'user_8629'}\n",
      "Count of invalid values in 'user_id': 6183\n"
     ]
    }
   ],
   "source": [
    "# Identify numeric columns\n",
    "numeric_columns = [\"ads_spent\", \"discount_amount\", \"product_id\", \"session_id\", \"user_id\"]\n",
    "\n",
    "for col in numeric_columns:\n",
    "    if col in traffic_df.columns:  # Ensure the column exists in the DataFrame\n",
    "        print(f\"\\nChecking numeric column: {col}\")\n",
    "        \n",
    "        # Detect invalid non-numeric values\n",
    "        invalid_values = []\n",
    "        for value in traffic_df[col]:\n",
    "            try:\n",
    "                # Try converting the value to a float\n",
    "                float(value)\n",
    "            except (ValueError, TypeError):\n",
    "                # If conversion fails, it's an invalid value\n",
    "                invalid_values.append(value)\n",
    "        \n",
    "        # Print results\n",
    "        if invalid_values:\n",
    "            print(f\"Invalid values in '{col}': {set(invalid_values)}\")\n",
    "            print(f\"Count of invalid values in '{col}': {len(invalid_values)}\")\n",
    "        else:\n",
    "            print(f\"No invalid values found in '{col}'.\")\n"
   ]
  },
  {
   "cell_type": "code",
   "execution_count": 192,
   "metadata": {},
   "outputs": [
    {
     "name": "stdout",
     "output_type": "stream",
     "text": [
      "\n",
      "Invalid Values DataFrame:\n",
      "      ads_spent discount_amount product_id  user_id\n",
      "0           NaN         Missing    Unknown    1abcd\n",
      "1           NaN         Missing    Unknown    1abcd\n",
      "2           NaN         Unknown    Unknown    1abcd\n",
      "3           NaN         Missing    Unknown    1abcd\n",
      "4           NaN         Unknown    Unknown    1abcd\n",
      "...         ...             ...        ...      ...\n",
      "6178        NaN             NaN        NaN  usr_!@#\n",
      "6179        NaN             NaN        NaN  usr_!@#\n",
      "6180        NaN             NaN        NaN  usr_!@#\n",
      "6181        NaN             NaN        NaN  usr_!@#\n",
      "6182        NaN             NaN        NaN  usr_!@#\n",
      "\n",
      "[6183 rows x 4 columns]\n"
     ]
    }
   ],
   "source": [
    "import numpy as np\n",
    "# Identify numeric columns\n",
    "numeric_columns = [\"ads_spent\", \"discount_amount\", \"product_id\", \"user_id\"]\n",
    "\n",
    "# Dictionary to store invalid values\n",
    "invalid_values_dict = {col: [] for col in numeric_columns}\n",
    "\n",
    "for col in numeric_columns:\n",
    "    if col in traffic_df.columns:  # Ensure the column exists in the DataFrame\n",
    "        for value in traffic_df[col]:\n",
    "            try:\n",
    "                # Try converting the value to a float\n",
    "                float(value)\n",
    "            except (ValueError, TypeError):\n",
    "                # If conversion fails, it's an invalid value\n",
    "                invalid_values_dict[col].append(value)\n",
    "\n",
    "# Create a DataFrame from the invalid values dictionary\n",
    "# Ensure each list in the dictionary has equal length by padding with NaN\n",
    "max_length = max(len(values) for values in invalid_values_dict.values())\n",
    "padded_invalid_values = {col: values + [np.nan] * (max_length - len(values)) for col, values in invalid_values_dict.items()}\n",
    "\n",
    "invalid_values_df = pd.DataFrame(padded_invalid_values)\n",
    "\n",
    "# Display the invalid values DataFrame\n",
    "print(\"\\nInvalid Values DataFrame:\")\n",
    "print(invalid_values_df)"
   ]
  },
  {
   "cell_type": "markdown",
   "metadata": {},
   "source": [
    "Negative values"
   ]
  },
  {
   "cell_type": "code",
   "execution_count": 193,
   "metadata": {},
   "outputs": [],
   "source": [
    "# Identify numeric columns\n",
    "numeric_columns = [\"ads_spent\", \"discount_amount\", \"product_id\", \"session_id\"]\n",
    "\n",
    "# Check for non-numeric or invalid values in numeric columns\n",
    "for col in numeric_columns:\n",
    "    if col in traffic_df.columns:  # Ensure the column exists in the DataFrame\n",
    "     \n",
    "        # Ensure the column is numeric\n",
    "        traffic_df[col] = pd.to_numeric(traffic_df[col], errors=\"coerce\")\n",
    "\n",
    "        # Check for negative values\n",
    "        negative_values = traffic_df[traffic_df[col] < 0][col]\n",
    "        if not negative_values.empty:\n",
    "            print(f\"Negative values found in '{col}':\")\n",
    "            print(negative_values.head())\n"
   ]
  },
  {
   "cell_type": "markdown",
   "metadata": {},
   "source": [
    "2. unique values in categorical columns"
   ]
  },
  {
   "cell_type": "code",
   "execution_count": 194,
   "metadata": {},
   "outputs": [
    {
     "name": "stdout",
     "output_type": "stream",
     "text": [
      "\n",
      "Unique values in categorical column 'source':\n",
      "['Email' 'Referral' 'Direct' 'Search Engine' 'Social Media']\n",
      "\n",
      "Unique values in categorical column 'device':\n",
      "['Mobile' 'Desktop' 'Tablet']\n",
      "\n",
      "Unique values in categorical column 'action_detail':\n",
      "['Page View' 'Checkout' 'Add to Cart' 'Purchase']\n"
     ]
    }
   ],
   "source": [
    "# Check unique values in categorical columns\n",
    "categorical_columns = [\"source\", \"device\", \"action_detail\"]\n",
    "\n",
    "for col in categorical_columns:\n",
    "    if col in traffic_df.columns:\n",
    "        print(f\"\\nUnique values in categorical column '{col}':\")\n",
    "        unique_values = traffic_df[col].unique()\n",
    "        print(unique_values)\n",
    "        \n",
    "        # Check for blank or inconsistent values\n",
    "        inconsistent_values = []\n",
    "        for value in unique_values:\n",
    "            if isinstance(value, str) and value.strip() == \"\":\n",
    "                inconsistent_values.append(value)\n",
    "        if inconsistent_values:\n",
    "            print(f\"Inconsistent values in '{col}': {inconsistent_values}\")\n"
   ]
  },
  {
   "cell_type": "markdown",
   "metadata": {},
   "source": [
    "3. Time value check"
   ]
  },
  {
   "cell_type": "code",
   "execution_count": 195,
   "metadata": {},
   "outputs": [],
   "source": [
    "# Check for invalid datetime values in the 'time' column\n",
    "if \"time\" in traffic_df.columns:\n",
    "    # Attempt to convert the entire column to datetime, invalid entries will become NaT\n",
    "    converted_time = pd.to_datetime(traffic_df[\"time\"], errors=\"coerce\")\n",
    "    \n",
    "    # Identify invalid values (where conversion failed)\n",
    "    invalid_dates = traffic_df.loc[converted_time.isna(), \"time\"]\n",
    "    \n",
    "    # Display unique invalid values\n",
    "    if not invalid_dates.empty:\n",
    "        print(\"\\nInvalid datetime values in 'time':\")\n",
    "        print(invalid_dates.unique())\n"
   ]
  },
  {
   "cell_type": "markdown",
   "metadata": {},
   "source": [
    "4. Logical check"
   ]
  },
  {
   "cell_type": "markdown",
   "metadata": {},
   "source": [
    "#Business rules"
   ]
  },
  {
   "cell_type": "code",
   "execution_count": 196,
   "metadata": {},
   "outputs": [],
   "source": [
    "campaign_periods = [\n",
    "    {\"name\": \"Holiday Sale\", \"start\": \"2024-12-01\", \"end\": \"2024-12-15\"},\n",
    "    {\"name\": \"Year-End Sale\", \"start\": \"2024-12-20\", \"end\": \"2024-12-31\"}\n",
    "]\n",
    "valid_sources = [\"Direct\", \"Referral\", \"Email\", \"Social Media\"]\n",
    "valid_reference_links = [\n",
    "    \"https://holiday-sale.com/product-page\",\n",
    "    \"https://holiday-sale.com/deals\",\n",
    "    \"https://year-end-sale.com/product-page\",\n",
    "    \"https://year-end-sale.com/offers\"\n",
    "]"
   ]
  },
  {
   "cell_type": "markdown",
   "metadata": {},
   "source": [
    "a. product action Without Valid Product IDs"
   ]
  },
  {
   "cell_type": "code",
   "execution_count": 197,
   "metadata": {},
   "outputs": [
    {
     "name": "stdout",
     "output_type": "stream",
     "text": [
      "\n",
      "Purchases with invalid product IDs:\n",
      "               time user_id         source   device action_detail  \\\n",
      "35   12/9/2024 8:51       5   Social Media   Tablet   Add to Cart   \n",
      "40   12/1/2024 8:04       6  Search Engine  Desktop   Add to Cart   \n",
      "61   12/4/2024 8:14       7   Social Media   Mobile   Add to Cart   \n",
      "76   12/4/2024 9:29       7       Referral   Mobile   Add to Cart   \n",
      "83  12/4/2024 10:03       7  Search Engine   Mobile      Purchase   \n",
      "\n",
      "                            reference_link  product_id  ads_spent  \\\n",
      "35        https://year-end-sale.com/offers         NaN   2.902877   \n",
      "40        https://year-end-sale.com/offers         NaN   5.572964   \n",
      "61  https://year-end-sale.com/product-page         NaN   2.143671   \n",
      "76                                     NaN         NaN   0.000000   \n",
      "83          https://holiday-sale.com/deals         NaN   5.131286   \n",
      "\n",
      "    discount_amount  session_id  \n",
      "35              0.0           5  \n",
      "40              0.0           6  \n",
      "61              0.0           9  \n",
      "76              0.0           9  \n",
      "83              0.0           9  \n"
     ]
    }
   ],
   "source": [
    "required_action = [\"Purchase\", \"Product View\", \"Add to Cart\"]\n",
    "\n",
    "product_action_with_no_product_id = traffic_df[(traffic_df[\"action_detail\"].isin(required_action)) &\n",
    "                               (traffic_df[\"product_id\"].isna())]\n",
    "if not product_action_with_no_product_id.empty:\n",
    "    print(\"\\nPurchases with invalid product IDs:\")\n",
    "    print(product_action_with_no_product_id.head())"
   ]
  },
  {
   "cell_type": "code",
   "execution_count": 198,
   "metadata": {},
   "outputs": [],
   "source": [
    "# Helper function: Check if time falls in a campaign period\n",
    "def is_in_campaign_period(timestamp):\n",
    "    for period in campaign_periods:\n",
    "        if pd.Timestamp(period[\"start\"]) <= timestamp <= pd.Timestamp(period[\"end\"]):\n",
    "            return True\n",
    "    return False"
   ]
  },
  {
   "cell_type": "markdown",
   "metadata": {},
   "source": [
    "Purchase with no prior action"
   ]
  },
  {
   "cell_type": "code",
   "execution_count": 199,
   "metadata": {},
   "outputs": [
    {
     "name": "stdout",
     "output_type": "stream",
     "text": [
      "Purchase Times:\n",
      "user_id  session_id\n",
      "5        1            2024-12-03 08:00:00\n",
      "6        1            2024-12-01 08:24:00\n",
      "7        2            2024-12-04 09:04:00\n",
      "9        2            2024-12-02 08:19:00\n",
      "40       2            2024-12-02 08:51:00\n",
      "Name: time, dtype: datetime64[ns]\n",
      "Traffic Data after merge:\n",
      "                 time user_id         source   device action_detail  \\\n",
      "0 2024-12-01 08:02:00       4          Email   Mobile     Page View   \n",
      "1 2024-12-01 08:04:00       4       Referral  Desktop     Page View   \n",
      "2 2024-12-01 08:05:00       4       Referral  Desktop      Checkout   \n",
      "3 2024-12-01 08:07:00       4         Direct   Mobile     Page View   \n",
      "4 2024-12-01 08:35:00       4  Search Engine  Desktop     Page View   \n",
      "\n",
      "                          reference_link  product_id  ads_spent  \\\n",
      "0  https://holiday-sale.com/product-page       873.0   0.466555   \n",
      "1  https://holiday-sale.com/product-page       852.0   0.000000   \n",
      "2       https://year-end-sale.com/offers        11.0   0.000000   \n",
      "3                                    NaN        26.0   0.000000   \n",
      "4                                    NaN       613.0   8.760181   \n",
      "\n",
      "   discount_amount  session_id       time_diff  is_prior_action purchase_time  \n",
      "0              0.0           1             NaT             True           NaT  \n",
      "1              0.0           1 0 days 00:02:00             True           NaT  \n",
      "2              0.0           1 0 days 00:01:00            False           NaT  \n",
      "3              0.0           1 0 days 00:02:00             True           NaT  \n",
      "4              0.0           1 0 days 00:28:00             True           NaT  \n"
     ]
    }
   ],
   "source": [
    "import pandas as pd\n",
    "\n",
    "# Ensure the dataset's name is traffic_df\n",
    "traffic_df['time'] = pd.to_datetime(traffic_df['time'], errors='coerce')\n",
    "\n",
    "# Step 1: Sort by user_id and time\n",
    "traffic_df = traffic_df.sort_values(by=['user_id', 'time']).reset_index(drop=True)\n",
    "\n",
    "# Step 2: Create Session ID\n",
    "# Calculate the time difference between consecutive actions for the same user\n",
    "traffic_df['time_diff'] = traffic_df.groupby('user_id')['time'].diff()\n",
    "\n",
    "# Assign a new session ID whenever the time difference is greater than 30 minutes or for the first action\n",
    "traffic_df['session_id'] = (\n",
    "    (traffic_df['time_diff'] > pd.Timedelta(minutes=30)) | (traffic_df['time_diff'].isna())\n",
    ").groupby(traffic_df['user_id']).cumsum()\n",
    "\n",
    "# Step 3: Check for Prior Actions in Sessions with Purchase\n",
    "# Identify rows with valid prior actions (anything except \"Purchase\" and \"Checkout\")\n",
    "traffic_df['is_prior_action'] = ~traffic_df['action_detail'].isin([\"Purchase\", \"Checkout\"])\n",
    "\n",
    "# Find the earliest purchase time per session\n",
    "purchase_times = traffic_df[traffic_df['action_detail'] == \"Purchase\"].groupby(['user_id', 'session_id'])['time'].min()\n",
    "\n",
    "# Debug: Check if there are any purchase times\n",
    "if purchase_times.empty:\n",
    "    print(\"No purchases found in the dataset.\")\n",
    "else:\n",
    "    print(\"Purchase Times:\")\n",
    "    print(purchase_times.head())\n",
    "\n",
    "# Remove pre-existing 'purchase_time' column if it exists\n",
    "if 'purchase_time' in traffic_df.columns:\n",
    "    traffic_df = traffic_df.drop(columns=['purchase_time'])\n",
    "\n",
    "# Map earliest purchase time to the session (only if purchase_times is not empty)\n",
    "if not purchase_times.empty:\n",
    "    traffic_df = traffic_df.merge(\n",
    "        purchase_times.rename('purchase_time').reset_index(),\n",
    "        on=['user_id', 'session_id'],\n",
    "        how='left'\n",
    "    )\n",
    "else:\n",
    "    traffic_df['purchase_time'] = None\n",
    "\n",
    "# Debug: Verify if purchase_time exists\n",
    "print(\"Traffic Data after merge:\")\n",
    "print(traffic_df.head())\n",
    "\n",
    "# Identify rows prior to the purchase time within the same session\n",
    "traffic_df['is_prior_to_purchase'] = (\n",
    "    (traffic_df['time'] < traffic_df['purchase_time']) & traffic_df['is_prior_action']\n",
    ")\n",
    "\n",
    "# Determine if the session has any prior action before purchase\n",
    "prior_action_sessions = traffic_df.groupby(['user_id', 'session_id'])['is_prior_to_purchase'].any()\n",
    "\n",
    "# Reset index and explicitly ensure 'has_prior_action' is created correctly\n",
    "prior_action_sessions = prior_action_sessions.reset_index().rename(columns={'is_prior_to_purchase': 'has_prior_action'})\n",
    "\n",
    "# Merge prior action flag back to the main dataset\n",
    "traffic_df = traffic_df.merge(\n",
    "    prior_action_sessions,\n",
    "    on=['user_id', 'session_id'],\n",
    "    how='left'\n",
    ")\n",
    "\n",
    "# Fill missing values in `has_prior_action`\n",
    "traffic_df['has_prior_action'] = traffic_df['has_prior_action'].fillna(False)\n",
    "\n",
    "# Step 4: Filter sessions with Purchase and no prior action\n",
    "sessions_with_invalid_purchases = traffic_df[\n",
    "    (traffic_df['action_detail'] == \"Purchase\") & ~traffic_df['has_prior_action']\n",
    "]"
   ]
  },
  {
   "cell_type": "code",
   "execution_count": 200,
   "metadata": {},
   "outputs": [
    {
     "name": "stdout",
     "output_type": "stream",
     "text": [
      "No prior action Purchase: 2269\n"
     ]
    }
   ],
   "source": [
    "# Count rows with \"Purchase\" action\n",
    "purchase_count = sessions_with_invalid_purchases[sessions_with_invalid_purchases['action_detail'] == \"Purchase\"].shape[0]\n",
    "\n",
    "# Print the count\n",
    "print(\"No prior action Purchase:\", purchase_count)\n"
   ]
  },
  {
   "cell_type": "markdown",
   "metadata": {},
   "source": [
    "invalid reference link"
   ]
  },
  {
   "cell_type": "code",
   "execution_count": 201,
   "metadata": {},
   "outputs": [
    {
     "name": "stdout",
     "output_type": "stream",
     "text": [
      "Empty DataFrame\n",
      "Columns: [time, user_id, source, device, action_detail, reference_link, product_id, ads_spent, discount_amount, session_id, time_diff, is_prior_action, purchase_time, is_prior_to_purchase, has_prior_action]\n",
      "Index: []\n"
     ]
    }
   ],
   "source": [
    "# Ensure the 'reference_link' column is not null and is not in the list of valid_reference_links\n",
    "invalid_reference_links = traffic_df[\n",
    "    (~traffic_df['reference_link'].isin(valid_reference_links)) & \n",
    "    (traffic_df['reference_link'].notnull())\n",
    "]\n",
    "\n",
    "print(invalid_reference_links)\n"
   ]
  },
  {
   "cell_type": "markdown",
   "metadata": {},
   "source": [
    "ads outside campaign"
   ]
  },
  {
   "cell_type": "code",
   "execution_count": 202,
   "metadata": {},
   "outputs": [
    {
     "name": "stdout",
     "output_type": "stream",
     "text": [
      "             time    user_id         source  device action_detail  \\\n",
      "18     2025-01-01          4  Search Engine  Mobile   Add to Cart   \n",
      "19     2025-01-01          4  Search Engine  Mobile     Page View   \n",
      "128    2025-01-01          9  Search Engine  Mobile     Page View   \n",
      "142    2025-01-01         40   Social Media  Mobile     Page View   \n",
      "329    2025-01-01         49   Social Media  Mobile     Page View   \n",
      "...           ...        ...            ...     ...           ...   \n",
      "205675 2025-01-01  user_9463  Search Engine  Tablet     Page View   \n",
      "205737 2025-01-01  user_9556   Social Media  Mobile   Add to Cart   \n",
      "206011 2025-01-01  user_9936  Search Engine  Mobile   Add to Cart   \n",
      "206013 2025-01-01  user_9940  Search Engine  Mobile   Add to Cart   \n",
      "206045 2025-01-01    usr_!@#  Search Engine  Mobile   Add to Cart   \n",
      "\n",
      "                                reference_link  product_id  ads_spent  \\\n",
      "18      https://year-end-sale.com/product-page       618.0   6.250889   \n",
      "19            https://year-end-sale.com/offers        14.0   5.568216   \n",
      "128                                        NaN       642.0   5.965789   \n",
      "142           https://year-end-sale.com/offers         NaN   2.158759   \n",
      "329      https://holiday-sale.com/product-page        51.0   2.422183   \n",
      "...                                        ...         ...        ...   \n",
      "205675          https://holiday-sale.com/deals       360.0   9.199877   \n",
      "205737  https://year-end-sale.com/product-page         0.0   4.019906   \n",
      "206011  https://year-end-sale.com/product-page        79.0   9.794205   \n",
      "206013          https://holiday-sale.com/deals       361.0   6.650320   \n",
      "206045        https://year-end-sale.com/offers       247.0   5.154083   \n",
      "\n",
      "        discount_amount  session_id        time_diff  is_prior_action  \\\n",
      "18             0.000000           2 30 days 13:29:00             True   \n",
      "19             0.000000           2  0 days 00:00:00             True   \n",
      "128            0.000000           3 29 days 14:17:00             True   \n",
      "142            0.000000           3 29 days 14:55:00             True   \n",
      "329            0.000000           3  0 days 00:00:00             True   \n",
      "...                 ...         ...              ...              ...   \n",
      "205675         0.000000           1              NaT             True   \n",
      "205737        15.193493           2 30 days 15:56:00             True   \n",
      "206011         0.000000           2 30 days 15:57:00             True   \n",
      "206013         0.000000           2 30 days 15:52:00             True   \n",
      "206045         0.000000           2 27 days 15:50:00             True   \n",
      "\n",
      "       purchase_time  is_prior_to_purchase  has_prior_action  \n",
      "18               NaT                 False             False  \n",
      "19               NaT                 False             False  \n",
      "128              NaT                 False             False  \n",
      "142              NaT                 False             False  \n",
      "329              NaT                 False             False  \n",
      "...              ...                   ...               ...  \n",
      "205675           NaT                 False             False  \n",
      "205737           NaT                 False             False  \n",
      "206011           NaT                 False             False  \n",
      "206013           NaT                 False             False  \n",
      "206045           NaT                 False             False  \n",
      "\n",
      "[2149 rows x 15 columns]\n"
     ]
    }
   ],
   "source": [
    "ads_outside_campaigns = traffic_df[\n",
    "    (traffic_df['ads_spent'] > 0) & ~traffic_df['time'].apply(is_in_campaign_period)\n",
    "]\n",
    "print(ads_outside_campaigns)"
   ]
  },
  {
   "cell_type": "markdown",
   "metadata": {},
   "source": [
    "Invalid 'Direct' source in ads session"
   ]
  },
  {
   "cell_type": "code",
   "execution_count": 218,
   "metadata": {},
   "outputs": [
    {
     "name": "stdout",
     "output_type": "stream",
     "text": [
      "Empty DataFrame\n",
      "Columns: [time, user_id, source, device, action_detail, reference_link, product_id, ads_spent, discount_amount, session_id, time_diff, is_prior_action, purchase_time, is_prior_to_purchase, has_prior_action]\n",
      "Index: []\n"
     ]
    },
    {
     "ename": "",
     "evalue": "",
     "output_type": "error",
     "traceback": [
      "\u001b[1;31mThe Kernel crashed while executing code in the current cell or a previous cell. \n",
      "\u001b[1;31mPlease review the code in the cell(s) to identify a possible cause of the failure. \n",
      "\u001b[1;31mClick <a href='https://aka.ms/vscodeJupyterKernelCrash'>here</a> for more info. \n",
      "\u001b[1;31mView Jupyter <a href='command:jupyter.viewOutput'>log</a> for further details."
     ]
    }
   ],
   "source": [
    "invalid_source_link = traffic_df[(traffic_df['source'] == 'Direct') & traffic_df['reference_link'].notna()]\n",
    "print(invalid_source_link)\n"
   ]
  },
  {
   "cell_type": "markdown",
   "metadata": {},
   "source": [
    "ads source without ads link"
   ]
  },
  {
   "cell_type": "code",
   "execution_count": 204,
   "metadata": {},
   "outputs": [
    {
     "name": "stdout",
     "output_type": "stream",
     "text": [
      "Empty DataFrame\n",
      "Columns: [time, user_id, source, device, action_detail, reference_link, product_id, ads_spent, discount_amount, session_id, time_diff, is_prior_action, purchase_time, is_prior_to_purchase, has_prior_action]\n",
      "Index: []\n"
     ]
    }
   ],
   "source": [
    "ads_source_no_link = traffic_df[\n",
    "    (traffic_df['source'].isin(['Social Media' 'Email' 'Search Engine'])) & traffic_df['reference_link'].isna()\n",
    "]\n",
    "print(ads_source_no_link)"
   ]
  },
  {
   "cell_type": "markdown",
   "metadata": {},
   "source": [
    "Ads spent > 0 for session with source = 'Direct"
   ]
  },
  {
   "cell_type": "code",
   "execution_count": 205,
   "metadata": {},
   "outputs": [
    {
     "name": "stdout",
     "output_type": "stream",
     "text": [
      "Empty DataFrame\n",
      "Columns: [time, user_id, source, device, action_detail, reference_link, product_id, ads_spent, discount_amount, session_id, time_diff, is_prior_action, purchase_time, is_prior_to_purchase, has_prior_action]\n",
      "Index: []\n"
     ]
    }
   ],
   "source": [
    "ad_spent_direct = traffic_df[(traffic_df['source'] == 'Direct') & (traffic_df['ads_spent'] > 0)]\n",
    "print(ad_spent_direct)"
   ]
  },
  {
   "cell_type": "markdown",
   "metadata": {},
   "source": [
    "Discount > 0 for action is not 'Purchase'"
   ]
  },
  {
   "cell_type": "code",
   "execution_count": 206,
   "metadata": {},
   "outputs": [],
   "source": [
    "traffic_df['discount_amount'] = pd.to_numeric(traffic_df['discount_amount'], errors='coerce')\n"
   ]
  },
  {
   "cell_type": "code",
   "execution_count": 207,
   "metadata": {},
   "outputs": [
    {
     "name": "stdout",
     "output_type": "stream",
     "text": [
      "                      time    user_id         source   device action_detail  \\\n",
      "20     2025-01-01 00:00:00          4       Referral   Mobile      Checkout   \n",
      "26     2024-12-07 08:23:00          5  Search Engine  Desktop   Add to Cart   \n",
      "29     2024-12-07 08:35:00          5  Search Engine  Desktop   Add to Cart   \n",
      "41     2024-12-01 08:05:00          6         Direct   Mobile   Add to Cart   \n",
      "49     2024-12-01 08:33:00          6  Search Engine   Mobile      Checkout   \n",
      "...                    ...        ...            ...      ...           ...   \n",
      "205997 2024-12-01 08:18:00  user_9920       Referral  Desktop     Page View   \n",
      "206003 2024-12-01 08:03:00  user_9930   Social Media   Mobile     Page View   \n",
      "206018 2024-12-01 08:01:00  user_9954         Direct   Mobile      Checkout   \n",
      "206028 2024-12-01 08:02:00  user_9975  Search Engine   Mobile      Checkout   \n",
      "206040 2024-12-01 08:05:00  user_9993  Search Engine   Mobile     Page View   \n",
      "\n",
      "                                reference_link  product_id  ads_spent  \\\n",
      "20                                         NaN       303.0   0.000000   \n",
      "26       https://holiday-sale.com/product-page        73.0   6.599955   \n",
      "29              https://holiday-sale.com/deals       223.0   7.177800   \n",
      "41                                         NaN       564.0   0.000000   \n",
      "49              https://holiday-sale.com/deals        61.0   9.954393   \n",
      "...                                        ...         ...        ...   \n",
      "205997  https://year-end-sale.com/product-page       197.0   0.000000   \n",
      "206003  https://year-end-sale.com/product-page       555.0   4.000602   \n",
      "206018                                     NaN       785.0   0.000000   \n",
      "206028   https://holiday-sale.com/product-page       833.0   7.260497   \n",
      "206040        https://year-end-sale.com/offers       635.0   8.005187   \n",
      "\n",
      "        discount_amount  session_id       time_diff  is_prior_action  \\\n",
      "20             9.758600           2 0 days 00:00:00            False   \n",
      "26             6.143439           3 0 days 00:20:00             True   \n",
      "29            12.398065           3 0 days 00:04:00             True   \n",
      "41             7.489871           1 0 days 00:01:00             True   \n",
      "49            16.106057           1 0 days 00:05:00            False   \n",
      "...                 ...         ...             ...              ...   \n",
      "205997         5.322955           1 0 days 00:01:00             True   \n",
      "206003        19.798944           1             NaT             True   \n",
      "206018         7.333836           1             NaT            False   \n",
      "206028         8.565130           1             NaT            False   \n",
      "206040        15.081119           1             NaT             True   \n",
      "\n",
      "             purchase_time  is_prior_to_purchase  has_prior_action  \n",
      "20                     NaT                 False             False  \n",
      "26                     NaT                 False             False  \n",
      "29                     NaT                 False             False  \n",
      "41     2024-12-01 08:24:00                  True              True  \n",
      "49     2024-12-01 08:24:00                 False              True  \n",
      "...                    ...                   ...               ...  \n",
      "205997                 NaT                 False             False  \n",
      "206003                 NaT                 False             False  \n",
      "206018                 NaT                 False             False  \n",
      "206028                 NaT                 False             False  \n",
      "206040                 NaT                 False             False  \n",
      "\n",
      "[19570 rows x 15 columns]\n"
     ]
    }
   ],
   "source": [
    "invalid_discount_rows = traffic_df[(traffic_df['discount_amount'] > 0) & (traffic_df['action_detail'] != 'Purchase')]\n",
    "print(invalid_discount_rows)"
   ]
  },
  {
   "cell_type": "markdown",
   "metadata": {},
   "source": [
    "Data Cleaning"
   ]
  },
  {
   "cell_type": "markdown",
   "metadata": {},
   "source": [
    "a. Format error"
   ]
  },
  {
   "cell_type": "markdown",
   "metadata": {},
   "source": [
    "user_id"
   ]
  },
  {
   "cell_type": "code",
   "execution_count": 208,
   "metadata": {},
   "outputs": [
    {
     "name": "stdout",
     "output_type": "stream",
     "text": [
      "Updated traffic_df:\n",
      "                      time  user_id         source   device action_detail  \\\n",
      "0      2024-12-01 08:02:00        4          Email   Mobile     Page View   \n",
      "1      2024-12-01 08:04:00        4       Referral  Desktop     Page View   \n",
      "2      2024-12-01 08:05:00        4       Referral  Desktop      Checkout   \n",
      "3      2024-12-01 08:07:00        4         Direct   Mobile     Page View   \n",
      "4      2024-12-01 08:35:00        4  Search Engine  Desktop     Page View   \n",
      "...                    ...      ...            ...      ...           ...   \n",
      "206041 2024-12-04 08:00:00  Unknown  Search Engine   Mobile   Add to Cart   \n",
      "206042 2024-12-04 08:04:00  Unknown  Search Engine   Mobile     Page View   \n",
      "206043 2024-12-04 08:07:00  Unknown  Search Engine   Mobile     Page View   \n",
      "206044 2024-12-04 08:10:00  Unknown  Search Engine   Tablet     Page View   \n",
      "206045 2025-01-01 00:00:00  Unknown  Search Engine   Mobile   Add to Cart   \n",
      "\n",
      "                               reference_link  product_id  ads_spent  \\\n",
      "0       https://holiday-sale.com/product-page       873.0   0.466555   \n",
      "1       https://holiday-sale.com/product-page       852.0   0.000000   \n",
      "2            https://year-end-sale.com/offers        11.0   0.000000   \n",
      "3                                         NaN        26.0   0.000000   \n",
      "4                                         NaN       613.0   8.760181   \n",
      "...                                       ...         ...        ...   \n",
      "206041                                    NaN         NaN   8.611272   \n",
      "206042       https://year-end-sale.com/offers       315.0   7.644178   \n",
      "206043  https://holiday-sale.com/product-page       757.0   6.508628   \n",
      "206044                                    NaN       204.0   7.354827   \n",
      "206045       https://year-end-sale.com/offers       247.0   5.154083   \n",
      "\n",
      "        discount_amount  session_id        time_diff  is_prior_action  \\\n",
      "0                   0.0           1              NaT             True   \n",
      "1                   0.0           1  0 days 00:02:00             True   \n",
      "2                   0.0           1  0 days 00:01:00            False   \n",
      "3                   0.0           1  0 days 00:02:00             True   \n",
      "4                   0.0           1  0 days 00:28:00             True   \n",
      "...                 ...         ...              ...              ...   \n",
      "206041              0.0           1              NaT             True   \n",
      "206042              0.0           1  0 days 00:04:00             True   \n",
      "206043              0.0           1  0 days 00:03:00             True   \n",
      "206044              0.0           1  0 days 00:03:00             True   \n",
      "206045              0.0           2 27 days 15:50:00             True   \n",
      "\n",
      "       purchase_time  is_prior_to_purchase  has_prior_action  \n",
      "0                NaT                 False             False  \n",
      "1                NaT                 False             False  \n",
      "2                NaT                 False             False  \n",
      "3                NaT                 False             False  \n",
      "4                NaT                 False             False  \n",
      "...              ...                   ...               ...  \n",
      "206041           NaT                 False             False  \n",
      "206042           NaT                 False             False  \n",
      "206043           NaT                 False             False  \n",
      "206044           NaT                 False             False  \n",
      "206045           NaT                 False             False  \n",
      "\n",
      "[206046 rows x 15 columns]\n"
     ]
    }
   ],
   "source": [
    "# Function to clean user_id column\n",
    "def clean_user_id(value):\n",
    "    if value is None:  # Handle None values explicitly\n",
    "        return \"Unknown\"\n",
    "    try:\n",
    "        # Check if value is numeric\n",
    "        float(value)\n",
    "        return int(value)  # Convert numeric value to integer\n",
    "    except ValueError:\n",
    "        # If not numeric, check for 'user_xxx' pattern\n",
    "        if isinstance(value, str) and value.startswith(\"user_\"):\n",
    "            numeric_part = value.split(\"_\")[1]  # Extract the numeric part\n",
    "            if numeric_part.isdigit():\n",
    "                return int(numeric_part)  # Convert to integer\n",
    "        # For all other cases, return \"Unknown\"\n",
    "        return \"Unknown\"\n",
    "\n",
    "# Identify invalid user_id values in the original dataset\n",
    "invalid_values = []\n",
    "for value in traffic_df['user_id']:\n",
    "    try:\n",
    "        float(value)  # Check if the value is numeric\n",
    "    except (ValueError, TypeError):\n",
    "        invalid_values.append(value)\n",
    "\n",
    "# Create a DataFrame with invalid values for cleaning\n",
    "invalid_values_df = pd.DataFrame({\"user_id\": invalid_values})\n",
    "\n",
    "# Apply the cleaning function to the user_id column in invalid_values_df\n",
    "if 'user_id' in invalid_values_df.columns:\n",
    "    invalid_values_df['cleaned_user_id'] = invalid_values_df['user_id'].apply(clean_user_id)\n",
    "\n",
    "# Create a mapping dictionary from invalid to cleaned values\n",
    "mapping_dict = dict(zip(invalid_values_df['user_id'], invalid_values_df['cleaned_user_id']))\n",
    "\n",
    "# Map the cleaned user_id values back to the original dataset\n",
    "traffic_df['user_id'] = traffic_df['user_id'].map(mapping_dict).fillna(traffic_df['user_id'])\n",
    "\n",
    "# Display the updated DataFrame\n",
    "print(\"Updated traffic_df:\")\n",
    "print(traffic_df)"
   ]
  },
  {
   "cell_type": "markdown",
   "metadata": {},
   "source": [
    "discount amount"
   ]
  },
  {
   "cell_type": "code",
   "execution_count": 209,
   "metadata": {},
   "outputs": [],
   "source": [
    "# Identify rows with invalid values in `discount_amount`\n",
    "invalid_discount_values = {'Missing', 'Unknown'}\n",
    "is_invalid_discount = traffic_df['discount_amount'].isin(invalid_discount_values)\n",
    "\n",
    "# Check if the row does not have a purchase action\n",
    "is_not_purchase = traffic_df['action_detail'] != 'Purchase'\n",
    "\n",
    "# Impute `discount_amount` based on the condition\n",
    "traffic_df.loc[is_invalid_discount & is_not_purchase, 'discount_amount'] = 0\n",
    "traffic_df.loc[is_invalid_discount & ~is_not_purchase, 'discount_amount'] = None\n",
    "\n",
    "# Convert `discount_amount` to numeric for consistency\n",
    "traffic_df['discount_amount'] = pd.to_numeric(traffic_df['discount_amount'], errors='coerce')"
   ]
  },
  {
   "cell_type": "markdown",
   "metadata": {},
   "source": [
    "product_id"
   ]
  },
  {
   "cell_type": "code",
   "execution_count": 210,
   "metadata": {},
   "outputs": [
    {
     "name": "stderr",
     "output_type": "stream",
     "text": [
      "C:\\Users\\owner\\AppData\\Local\\Temp\\ipykernel_3992\\23853905.py:6: FutureWarning: Setting an item of incompatible dtype is deprecated and will raise an error in a future version of pandas. Value 'Unknown' has dtype incompatible with float64, please explicitly cast to a compatible dtype first.\n",
      "  traffic_df.loc[is_invalid_product, 'product_id'] = 'Unknown'\n"
     ]
    }
   ],
   "source": [
    "# Identify rows with invalid values in `product_id`\n",
    "invalid_product_values = {'invalid', 'Unknown', 'NA123', 'prod$%'}\n",
    "is_invalid_product = traffic_df['product_id'].isin(invalid_product_values)\n",
    "\n",
    "# Impute invalid `product_id` values to 'Unknown'\n",
    "traffic_df.loc[is_invalid_product, 'product_id'] = 'Unknown'\n"
   ]
  },
  {
   "cell_type": "markdown",
   "metadata": {},
   "source": [
    "b. Mixed data type"
   ]
  },
  {
   "cell_type": "code",
   "execution_count": 211,
   "metadata": {},
   "outputs": [],
   "source": [
    "# Convert `user_id` to a consistent data type (numeric, with invalids set to None)\n",
    "traffic_df['user_id'] = pd.to_numeric(traffic_df['user_id'], errors='coerce')\n",
    "\n",
    "# Ensure `reference_link` is a string, replacing invalid or missing values with None\n",
    "traffic_df['reference_link'] = traffic_df['reference_link'].astype(str).replace({'nan': None})\n",
    "\n",
    "# Convert `product_id` to string to handle potential mixed data types consistently\n",
    "traffic_df['product_id'] = traffic_df['product_id'].astype(str)\n",
    "\n",
    "# Convert `discount_amount` to numeric, with invalid values coerced to None\n",
    "traffic_df['discount_amount'] = pd.to_numeric(traffic_df['discount_amount'], errors='coerce')\n"
   ]
  },
  {
   "cell_type": "markdown",
   "metadata": {},
   "source": [
    "c. Business rules errors"
   ]
  },
  {
   "cell_type": "markdown",
   "metadata": {},
   "source": [
    "purchase intent without product id"
   ]
  },
  {
   "cell_type": "code",
   "execution_count": 212,
   "metadata": {},
   "outputs": [
    {
     "name": "stdout",
     "output_type": "stream",
     "text": [
      "\n",
      "Updated rows with imputed product_id:\n",
      "Empty DataFrame\n",
      "Columns: [time, user_id, source, device, action_detail, reference_link, product_id, ads_spent, discount_amount, session_id, time_diff, is_prior_action, purchase_time, is_prior_to_purchase, has_prior_action]\n",
      "Index: []\n"
     ]
    }
   ],
   "source": [
    "# Define required actions\n",
    "required_action = [\"Purchase\", \"Product View\", \"Add to Cart\"]\n",
    "\n",
    "# Identify rows with required actions but missing product_id\n",
    "product_action_with_no_product_id = traffic_df[\n",
    "    (traffic_df[\"action_detail\"].isin(required_action)) &\n",
    "    (traffic_df[\"product_id\"].isna())\n",
    "]\n",
    "\n",
    "# Impute missing product_id with the most frequent product_id for the same user_id\n",
    "for user_id in product_action_with_no_product_id[\"user_id\"].unique():\n",
    "    # Find the most frequent product_id for this user_id\n",
    "    most_frequent_product = traffic_df[\n",
    "        (traffic_df[\"user_id\"] == user_id) &\n",
    "        (traffic_df[\"action_detail\"] == \"Purchase\") &\n",
    "        (~traffic_df[\"product_id\"].isna())\n",
    "    ][\"product_id\"].mode()\n",
    "\n",
    "    # Update rows with missing product_id for this user_id\n",
    "    if not most_frequent_product.empty:\n",
    "        traffic_df.loc[\n",
    "            (traffic_df[\"user_id\"] == user_id) &\n",
    "            (traffic_df[\"product_id\"].isna()) &\n",
    "            (traffic_df[\"action_detail\"].isin(required_action)),\n",
    "            \"product_id\"\n",
    "        ] = most_frequent_product[0]\n",
    "\n",
    "# Display the updated rows for verification\n",
    "print(\"\\nUpdated rows with imputed product_id:\")\n",
    "print(traffic_df.loc[product_action_with_no_product_id.index])\n"
   ]
  },
  {
   "cell_type": "markdown",
   "metadata": {},
   "source": [
    "impute product id from non product intent action"
   ]
  },
  {
   "cell_type": "code",
   "execution_count": 213,
   "metadata": {},
   "outputs": [
    {
     "name": "stdout",
     "output_type": "stream",
     "text": [
      "\n",
      "Updated rows with non-product intent actions:\n",
      "                 time  user_id         source   device action_detail  \\\n",
      "0 2024-12-01 08:02:00      4.0          Email   Mobile     Page View   \n",
      "1 2024-12-01 08:04:00      4.0       Referral  Desktop     Page View   \n",
      "2 2024-12-01 08:05:00      4.0       Referral  Desktop      Checkout   \n",
      "3 2024-12-01 08:07:00      4.0         Direct   Mobile     Page View   \n",
      "4 2024-12-01 08:35:00      4.0  Search Engine  Desktop     Page View   \n",
      "\n",
      "                          reference_link product_id  ads_spent  \\\n",
      "0  https://holiday-sale.com/product-page       None   0.466555   \n",
      "1  https://holiday-sale.com/product-page       None   0.000000   \n",
      "2       https://year-end-sale.com/offers       None   0.000000   \n",
      "3                                   None       None   0.000000   \n",
      "4                                   None       None   8.760181   \n",
      "\n",
      "   discount_amount  session_id       time_diff  is_prior_action purchase_time  \\\n",
      "0              0.0           1             NaT             True           NaT   \n",
      "1              0.0           1 0 days 00:02:00             True           NaT   \n",
      "2              0.0           1 0 days 00:01:00            False           NaT   \n",
      "3              0.0           1 0 days 00:02:00             True           NaT   \n",
      "4              0.0           1 0 days 00:28:00             True           NaT   \n",
      "\n",
      "   is_prior_to_purchase  has_prior_action  \n",
      "0                 False             False  \n",
      "1                 False             False  \n",
      "2                 False             False  \n",
      "3                 False             False  \n",
      "4                 False             False  \n"
     ]
    }
   ],
   "source": [
    "# Define non-product intent actions (actions not involving a product)\n",
    "non_product_intent_actions = [\"Page View\", \"Checkout\"]\n",
    "\n",
    "# Identify rows with non-product intent actions\n",
    "non_product_intent_rows = traffic_df[\"action_detail\"].isin(non_product_intent_actions)\n",
    "\n",
    "# Impute `product_id` to null (None) for non-product intent actions\n",
    "traffic_df.loc[non_product_intent_rows, \"product_id\"] = None\n",
    "\n",
    "# Display the first few rows to confirm changes\n",
    "print(\"\\nUpdated rows with non-product intent actions:\")\n",
    "print(traffic_df[non_product_intent_rows].head())\n"
   ]
  },
  {
   "cell_type": "markdown",
   "metadata": {},
   "source": [
    "discount > 0 for non purchase"
   ]
  },
  {
   "cell_type": "code",
   "execution_count": 215,
   "metadata": {},
   "outputs": [
    {
     "name": "stdout",
     "output_type": "stream",
     "text": [
      "                      time  user_id         source   device action_detail  \\\n",
      "20     2025-01-01 00:00:00      4.0       Referral   Mobile      Checkout   \n",
      "26     2024-12-07 08:23:00      5.0  Search Engine  Desktop   Add to Cart   \n",
      "29     2024-12-07 08:35:00      5.0  Search Engine  Desktop   Add to Cart   \n",
      "41     2024-12-01 08:05:00      6.0         Direct   Mobile   Add to Cart   \n",
      "49     2024-12-01 08:33:00      6.0  Search Engine   Mobile      Checkout   \n",
      "...                    ...      ...            ...      ...           ...   \n",
      "205997 2024-12-01 08:18:00   9920.0       Referral  Desktop     Page View   \n",
      "206003 2024-12-01 08:03:00   9930.0   Social Media   Mobile     Page View   \n",
      "206018 2024-12-01 08:01:00   9954.0         Direct   Mobile      Checkout   \n",
      "206028 2024-12-01 08:02:00   9975.0  Search Engine   Mobile      Checkout   \n",
      "206040 2024-12-01 08:05:00   9993.0  Search Engine   Mobile     Page View   \n",
      "\n",
      "                                reference_link product_id  ads_spent  \\\n",
      "20                                        None       None   0.000000   \n",
      "26       https://holiday-sale.com/product-page       73.0   6.599955   \n",
      "29              https://holiday-sale.com/deals      223.0   7.177800   \n",
      "41                                        None      564.0   0.000000   \n",
      "49              https://holiday-sale.com/deals       None   9.954393   \n",
      "...                                        ...        ...        ...   \n",
      "205997  https://year-end-sale.com/product-page       None   0.000000   \n",
      "206003  https://year-end-sale.com/product-page       None   4.000602   \n",
      "206018                                    None       None   0.000000   \n",
      "206028   https://holiday-sale.com/product-page       None   7.260497   \n",
      "206040        https://year-end-sale.com/offers       None   8.005187   \n",
      "\n",
      "        discount_amount  session_id       time_diff  is_prior_action  \\\n",
      "20                  0.0           2 0 days 00:00:00            False   \n",
      "26                  0.0           3 0 days 00:20:00             True   \n",
      "29                  0.0           3 0 days 00:04:00             True   \n",
      "41                  0.0           1 0 days 00:01:00             True   \n",
      "49                  0.0           1 0 days 00:05:00            False   \n",
      "...                 ...         ...             ...              ...   \n",
      "205997              0.0           1 0 days 00:01:00             True   \n",
      "206003              0.0           1             NaT             True   \n",
      "206018              0.0           1             NaT            False   \n",
      "206028              0.0           1             NaT            False   \n",
      "206040              0.0           1             NaT             True   \n",
      "\n",
      "             purchase_time  is_prior_to_purchase  has_prior_action  \n",
      "20                     NaT                 False             False  \n",
      "26                     NaT                 False             False  \n",
      "29                     NaT                 False             False  \n",
      "41     2024-12-01 08:24:00                  True              True  \n",
      "49     2024-12-01 08:24:00                 False              True  \n",
      "...                    ...                   ...               ...  \n",
      "205997                 NaT                 False             False  \n",
      "206003                 NaT                 False             False  \n",
      "206018                 NaT                 False             False  \n",
      "206028                 NaT                 False             False  \n",
      "206040                 NaT                 False             False  \n",
      "\n",
      "[19570 rows x 15 columns]\n"
     ]
    }
   ],
   "source": [
    "# Impute the discount_amount to 0 for these rows\n",
    "traffic_df.loc[invalid_discount_rows.index, 'discount_amount'] = 0\n",
    "\n",
    "# Confirm the update\n",
    "print(traffic_df.loc[invalid_discount_rows.index])"
   ]
  }
 ],
 "metadata": {
  "kernelspec": {
   "display_name": "Python 3",
   "language": "python",
   "name": "python3"
  },
  "language_info": {
   "codemirror_mode": {
    "name": "ipython",
    "version": 3
   },
   "file_extension": ".py",
   "mimetype": "text/x-python",
   "name": "python",
   "nbconvert_exporter": "python",
   "pygments_lexer": "ipython3",
   "version": "3.13.0"
  }
 },
 "nbformat": 4,
 "nbformat_minor": 2
}
